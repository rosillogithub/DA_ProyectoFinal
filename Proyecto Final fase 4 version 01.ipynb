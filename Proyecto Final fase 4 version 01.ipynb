{
 "cells": [
  {
   "cell_type": "markdown",
   "id": "97164d1e-fa0e-463d-a5d6-9f4df9783f9d",
   "metadata": {},
   "source": [
    "# PLAN DE TRABAJO: Aplicaciones móviles: \n",
    "<b><font color='blue'>Segmentación de usuarios(as) en función del comportamiento </font></b>\n"
   ]
  },
  {
   "cell_type": "markdown",
   "id": "688481bd-daae-4709-a276-d55c5e984693",
   "metadata": {},
   "source": [
    "## Objetivo\n",
    "Tomar las acciones realizadas en la aplicación para definir grupos que difieren en términos de métricas del producto:\n",
    "* tasa de retención,\n",
    "* tiempo dedicado a la aplicación,\n",
    "* frecuencia de ocurrencia de eventos,\n",
    "* conversión en el evento de destino → contacts_show."
   ]
  },
  {
   "cell_type": "markdown",
   "id": "da88c939-e902-4b70-8cd7-8c0dba9ecc53",
   "metadata": {},
   "source": [
    "## Descripción de los datos\n",
    "Los datasets contienen datos sobre los eventos que ocurrieron en la aplicación móvil <b><font color='blue'>Trash to Treasure</font></b>, en la que  usuari#s publican anuncios para vender cosas que ya no necesitan.\n",
    "\n",
    "Los datos corresponden a quienes realizaron sus primeras acciones en la aplicación del 7 de octubre de 2019 al 03 de noviembre de 2019, o a favoritos"
   ]
  },
  {
   "cell_type": "markdown",
   "id": "b67b10d8-3c22-450d-b177-e15050c3f461",
   "metadata": {},
   "source": [
    "### mobile_dataset_us.csv contiene las siguientes columnas:\n",
    "* user.id\n",
    "* event.time: cuando tuvo lugar el evento,\n",
    "* event.name: Los posibles eventos son:\n",
    "    * advert_open: abrir una publicación publicitaria,\n",
    "    * photos_show: ver fotos en el anuncio,\n",
    "    * tips_show: se mostraron anuncios recomendados a usuari@,\n",
    "    * tips_click: Usuari@ hizo clic en un anuncio recomendado,\n",
    "    * map: Usuari@ abrió el mapa de los anuncios publicados\n",
    "    * search_1 - search_7: varios eventos relacionados con la búsqueda en el sitio web\n",
    "    * favorites_add: el usuario o la usuaria agregó el anuncio a favoritos*\n",
    "    * contacts_show y show_contacts (duplicados implicitos): Usuari@ hizo clic en el botón \"mostrar número de teléfono\" en el anuncio,\n",
    "    * contacts_call: Usuari@ marcó el número del anuncio"
   ]
  },
  {
   "cell_type": "markdown",
   "id": "1126e196-a27c-4067-886f-ff10db01e6ea",
   "metadata": {},
   "source": [
    "### mobile_sources_us.csv contiene las siguientes columnas:\n",
    "* userId: ID de usuario/a\n",
    "* source: la fuente desde la cual el usuario o la usuaria descargó la aplicación"
   ]
  },
  {
   "cell_type": "markdown",
   "id": "76bf98d8-1196-45bd-9481-9d20652c1b88",
   "metadata": {},
   "source": [
    "# Importación de librerías"
   ]
  },
  {
   "cell_type": "code",
   "execution_count": 1,
   "id": "915cd5c9-68d7-401e-9638-2cab49add71b",
   "metadata": {},
   "outputs": [],
   "source": [
    "import pandas as pd\n",
    "import numpy as np\n",
    "import seaborn as sns\n",
    "import matplotlib.pyplot as plt"
   ]
  },
  {
   "cell_type": "markdown",
   "id": "c51bfc3b-ae65-4719-8d54-507bac9bd33b",
   "metadata": {},
   "source": [
    "# EDA Inicial: Análisis Exploratorio de Datos"
   ]
  },
  {
   "cell_type": "markdown",
   "id": "cb295500-a953-4ffe-b505-e9b11befb2cb",
   "metadata": {},
   "source": [
    "## mobile_sources_us"
   ]
  },
  {
   "cell_type": "code",
   "execution_count": 2,
   "id": "3352f8e0-2f81-4e41-9076-d7e8e70f01de",
   "metadata": {},
   "outputs": [
    {
     "data": {
      "text/plain": [
       "(4293, 2)"
      ]
     },
     "execution_count": 2,
     "metadata": {},
     "output_type": "execute_result"
    }
   ],
   "source": [
    "# lee los datos\n",
    "sources = pd.read_csv('mobile_sources_us.csv')                    # Desarrollo local\n",
    "# sources = pd.read_csv('/datasets/mobile_sources_us.csv')            # Desarrollo en plataforma de revisión de código \n",
    "\n",
    "sources.shape"
   ]
  },
  {
   "cell_type": "code",
   "execution_count": 3,
   "id": "da881306-dd6a-4683-89ad-11474386535e",
   "metadata": {},
   "outputs": [
    {
     "data": {
      "text/html": [
       "<div>\n",
       "<style scoped>\n",
       "    .dataframe tbody tr th:only-of-type {\n",
       "        vertical-align: middle;\n",
       "    }\n",
       "\n",
       "    .dataframe tbody tr th {\n",
       "        vertical-align: top;\n",
       "    }\n",
       "\n",
       "    .dataframe thead th {\n",
       "        text-align: right;\n",
       "    }\n",
       "</style>\n",
       "<table border=\"1\" class=\"dataframe\">\n",
       "  <thead>\n",
       "    <tr style=\"text-align: right;\">\n",
       "      <th></th>\n",
       "      <th>userId</th>\n",
       "      <th>source</th>\n",
       "    </tr>\n",
       "  </thead>\n",
       "  <tbody>\n",
       "    <tr>\n",
       "      <th>0</th>\n",
       "      <td>020292ab-89bc-4156-9acf-68bc2783f894</td>\n",
       "      <td>other</td>\n",
       "    </tr>\n",
       "    <tr>\n",
       "      <th>1</th>\n",
       "      <td>cf7eda61-9349-469f-ac27-e5b6f5ec475c</td>\n",
       "      <td>bing</td>\n",
       "    </tr>\n",
       "    <tr>\n",
       "      <th>2</th>\n",
       "      <td>8c356c42-3ba9-4cb6-80b8-3f868d0192c3</td>\n",
       "      <td>bing</td>\n",
       "    </tr>\n",
       "    <tr>\n",
       "      <th>3</th>\n",
       "      <td>d9b06b47-0f36-419b-bbb0-3533e582a6cb</td>\n",
       "      <td>other</td>\n",
       "    </tr>\n",
       "    <tr>\n",
       "      <th>4</th>\n",
       "      <td>f32e1e2a-3027-4693-b793-b7b3ff274439</td>\n",
       "      <td>google</td>\n",
       "    </tr>\n",
       "  </tbody>\n",
       "</table>\n",
       "</div>"
      ],
      "text/plain": [
       "                                 userId  source\n",
       "0  020292ab-89bc-4156-9acf-68bc2783f894   other\n",
       "1  cf7eda61-9349-469f-ac27-e5b6f5ec475c    bing\n",
       "2  8c356c42-3ba9-4cb6-80b8-3f868d0192c3    bing\n",
       "3  d9b06b47-0f36-419b-bbb0-3533e582a6cb   other\n",
       "4  f32e1e2a-3027-4693-b793-b7b3ff274439  google"
      ]
     },
     "execution_count": 3,
     "metadata": {},
     "output_type": "execute_result"
    }
   ],
   "source": [
    "sources.head()"
   ]
  },
  {
   "cell_type": "markdown",
   "id": "55dc0121-5f0a-4130-99a5-261f493456d2",
   "metadata": {},
   "source": [
    "## mobile_dataset_us"
   ]
  },
  {
   "cell_type": "code",
   "execution_count": 4,
   "id": "887adaba-a50d-487c-b5d0-620bdd67e3e1",
   "metadata": {},
   "outputs": [
    {
     "data": {
      "text/plain": [
       "(74197, 3)"
      ]
     },
     "execution_count": 4,
     "metadata": {},
     "output_type": "execute_result"
    }
   ],
   "source": [
    "# lee los datos\n",
    "dataset = pd.read_csv('mobile_dataset_us.csv')                      # Desarrollo local\n",
    "# dataset = pd.read_csv('/datasets/mobile_dataset_us.csv')            # Desarrollo en plataforma de revisión de código \n",
    "\n",
    "dataset.shape"
   ]
  },
  {
   "cell_type": "code",
   "execution_count": 5,
   "id": "944a8d02-6af0-4366-ba8b-c577ad818d23",
   "metadata": {},
   "outputs": [
    {
     "data": {
      "text/html": [
       "<div>\n",
       "<style scoped>\n",
       "    .dataframe tbody tr th:only-of-type {\n",
       "        vertical-align: middle;\n",
       "    }\n",
       "\n",
       "    .dataframe tbody tr th {\n",
       "        vertical-align: top;\n",
       "    }\n",
       "\n",
       "    .dataframe thead th {\n",
       "        text-align: right;\n",
       "    }\n",
       "</style>\n",
       "<table border=\"1\" class=\"dataframe\">\n",
       "  <thead>\n",
       "    <tr style=\"text-align: right;\">\n",
       "      <th></th>\n",
       "      <th>event.time</th>\n",
       "      <th>event.name</th>\n",
       "      <th>user.id</th>\n",
       "    </tr>\n",
       "  </thead>\n",
       "  <tbody>\n",
       "    <tr>\n",
       "      <th>0</th>\n",
       "      <td>2019-10-07 00:00:00.431357</td>\n",
       "      <td>advert_open</td>\n",
       "      <td>020292ab-89bc-4156-9acf-68bc2783f894</td>\n",
       "    </tr>\n",
       "    <tr>\n",
       "      <th>1</th>\n",
       "      <td>2019-10-07 00:00:01.236320</td>\n",
       "      <td>tips_show</td>\n",
       "      <td>020292ab-89bc-4156-9acf-68bc2783f894</td>\n",
       "    </tr>\n",
       "    <tr>\n",
       "      <th>2</th>\n",
       "      <td>2019-10-07 00:00:02.245341</td>\n",
       "      <td>tips_show</td>\n",
       "      <td>cf7eda61-9349-469f-ac27-e5b6f5ec475c</td>\n",
       "    </tr>\n",
       "    <tr>\n",
       "      <th>3</th>\n",
       "      <td>2019-10-07 00:00:07.039334</td>\n",
       "      <td>tips_show</td>\n",
       "      <td>020292ab-89bc-4156-9acf-68bc2783f894</td>\n",
       "    </tr>\n",
       "    <tr>\n",
       "      <th>4</th>\n",
       "      <td>2019-10-07 00:00:56.319813</td>\n",
       "      <td>advert_open</td>\n",
       "      <td>cf7eda61-9349-469f-ac27-e5b6f5ec475c</td>\n",
       "    </tr>\n",
       "  </tbody>\n",
       "</table>\n",
       "</div>"
      ],
      "text/plain": [
       "                   event.time   event.name  \\\n",
       "0  2019-10-07 00:00:00.431357  advert_open   \n",
       "1  2019-10-07 00:00:01.236320    tips_show   \n",
       "2  2019-10-07 00:00:02.245341    tips_show   \n",
       "3  2019-10-07 00:00:07.039334    tips_show   \n",
       "4  2019-10-07 00:00:56.319813  advert_open   \n",
       "\n",
       "                                user.id  \n",
       "0  020292ab-89bc-4156-9acf-68bc2783f894  \n",
       "1  020292ab-89bc-4156-9acf-68bc2783f894  \n",
       "2  cf7eda61-9349-469f-ac27-e5b6f5ec475c  \n",
       "3  020292ab-89bc-4156-9acf-68bc2783f894  \n",
       "4  cf7eda61-9349-469f-ac27-e5b6f5ec475c  "
      ]
     },
     "execution_count": 5,
     "metadata": {},
     "output_type": "execute_result"
    }
   ],
   "source": [
    "dataset.head()"
   ]
  },
  {
   "cell_type": "code",
   "execution_count": 6,
   "id": "17d453df-9d2a-4a31-a652-a2fd76200f53",
   "metadata": {},
   "outputs": [
    {
     "data": {
      "text/html": [
       "<div>\n",
       "<style scoped>\n",
       "    .dataframe tbody tr th:only-of-type {\n",
       "        vertical-align: middle;\n",
       "    }\n",
       "\n",
       "    .dataframe tbody tr th {\n",
       "        vertical-align: top;\n",
       "    }\n",
       "\n",
       "    .dataframe thead th {\n",
       "        text-align: right;\n",
       "    }\n",
       "</style>\n",
       "<table border=\"1\" class=\"dataframe\">\n",
       "  <thead>\n",
       "    <tr style=\"text-align: right;\">\n",
       "      <th></th>\n",
       "      <th>event.time</th>\n",
       "      <th>event.name</th>\n",
       "      <th>user.id</th>\n",
       "    </tr>\n",
       "  </thead>\n",
       "  <tbody>\n",
       "    <tr>\n",
       "      <th>47688</th>\n",
       "      <td>2019-10-25 16:44:41.263364</td>\n",
       "      <td>contacts_show</td>\n",
       "      <td>00551e79-152e-4441-9cf7-565d7eb04090</td>\n",
       "    </tr>\n",
       "    <tr>\n",
       "      <th>47689</th>\n",
       "      <td>2019-10-25 16:44:44.786860</td>\n",
       "      <td>contacts_call</td>\n",
       "      <td>00551e79-152e-4441-9cf7-565d7eb04090</td>\n",
       "    </tr>\n",
       "    <tr>\n",
       "      <th>55802</th>\n",
       "      <td>2019-10-28 13:08:15.809056</td>\n",
       "      <td>search_1</td>\n",
       "      <td>00551e79-152e-4441-9cf7-565d7eb04090</td>\n",
       "    </tr>\n",
       "    <tr>\n",
       "      <th>55811</th>\n",
       "      <td>2019-10-28 13:10:40.331441</td>\n",
       "      <td>contacts_show</td>\n",
       "      <td>00551e79-152e-4441-9cf7-565d7eb04090</td>\n",
       "    </tr>\n",
       "    <tr>\n",
       "      <th>55813</th>\n",
       "      <td>2019-10-28 13:10:49.415326</td>\n",
       "      <td>contacts_call</td>\n",
       "      <td>00551e79-152e-4441-9cf7-565d7eb04090</td>\n",
       "    </tr>\n",
       "    <tr>\n",
       "      <th>55844</th>\n",
       "      <td>2019-10-28 13:17:17.259411</td>\n",
       "      <td>contacts_show</td>\n",
       "      <td>00551e79-152e-4441-9cf7-565d7eb04090</td>\n",
       "    </tr>\n",
       "    <tr>\n",
       "      <th>55845</th>\n",
       "      <td>2019-10-28 13:17:31.950103</td>\n",
       "      <td>contacts_call</td>\n",
       "      <td>00551e79-152e-4441-9cf7-565d7eb04090</td>\n",
       "    </tr>\n",
       "    <tr>\n",
       "      <th>58047</th>\n",
       "      <td>2019-10-29 02:17:12.342406</td>\n",
       "      <td>photos_show</td>\n",
       "      <td>00551e79-152e-4441-9cf7-565d7eb04090</td>\n",
       "    </tr>\n",
       "  </tbody>\n",
       "</table>\n",
       "</div>"
      ],
      "text/plain": [
       "                       event.time     event.name  \\\n",
       "47688  2019-10-25 16:44:41.263364  contacts_show   \n",
       "47689  2019-10-25 16:44:44.786860  contacts_call   \n",
       "55802  2019-10-28 13:08:15.809056       search_1   \n",
       "55811  2019-10-28 13:10:40.331441  contacts_show   \n",
       "55813  2019-10-28 13:10:49.415326  contacts_call   \n",
       "55844  2019-10-28 13:17:17.259411  contacts_show   \n",
       "55845  2019-10-28 13:17:31.950103  contacts_call   \n",
       "58047  2019-10-29 02:17:12.342406    photos_show   \n",
       "\n",
       "                                    user.id  \n",
       "47688  00551e79-152e-4441-9cf7-565d7eb04090  \n",
       "47689  00551e79-152e-4441-9cf7-565d7eb04090  \n",
       "55802  00551e79-152e-4441-9cf7-565d7eb04090  \n",
       "55811  00551e79-152e-4441-9cf7-565d7eb04090  \n",
       "55813  00551e79-152e-4441-9cf7-565d7eb04090  \n",
       "55844  00551e79-152e-4441-9cf7-565d7eb04090  \n",
       "55845  00551e79-152e-4441-9cf7-565d7eb04090  \n",
       "58047  00551e79-152e-4441-9cf7-565d7eb04090  "
      ]
     },
     "execution_count": 6,
     "metadata": {},
     "output_type": "execute_result"
    }
   ],
   "source": [
    "dataset[dataset['user.id']=='00551e79-152e-4441-9cf7-565d7eb04090'].sort_values(by='event.time', ascending=True)"
   ]
  },
  {
   "cell_type": "markdown",
   "id": "135d3009-0730-4699-916c-a53f64cdfc2f",
   "metadata": {},
   "source": [
    "# Preprocesamiento"
   ]
  },
  {
   "cell_type": "markdown",
   "id": "ec30e363-6562-48b8-bc27-42f285fb7068",
   "metadata": {},
   "source": [
    "<div class=\"alert alert-block alert-info\">\n",
    "\n",
    "* Complementar/combinar \"dataset\" con la información de \"sources\"\n",
    "* Combinar dataset para consolidar información: Adicionar al dataset mobile_dataset_us la fuente (\"source\") de cada user.id según consulta en la tabla mobile_sources_us\n",
    "* Agrupar por categorias (Categorizar) los eventos:\n",
    "    * ingreso: advert_open.\n",
    "    * busqueda: photos_show, tips_show, tips_click, map, search_1 a search_7 y favorites_add.\n",
    "    * evento_destino: contacts_show\n",
    "    * evento_final: contacts_call\n",
    "</div>"
   ]
  },
  {
   "cell_type": "markdown",
   "id": "a6cdbd9f-a1e8-4fd2-9854-c4a1b569f729",
   "metadata": {},
   "source": [
    "## Cambiar nombre de columnas\n",
    "Los nombre de llave primaria de mobile_sources_us (userId) y llave foranea en mobile_dataset_us (user.Id) deben coincidir,"
   ]
  },
  {
   "cell_type": "code",
   "execution_count": 7,
   "id": "bac417cf-c5b6-4e0c-9f14-b07da18edae0",
   "metadata": {},
   "outputs": [
    {
     "data": {
      "text/html": [
       "<div>\n",
       "<style scoped>\n",
       "    .dataframe tbody tr th:only-of-type {\n",
       "        vertical-align: middle;\n",
       "    }\n",
       "\n",
       "    .dataframe tbody tr th {\n",
       "        vertical-align: top;\n",
       "    }\n",
       "\n",
       "    .dataframe thead th {\n",
       "        text-align: right;\n",
       "    }\n",
       "</style>\n",
       "<table border=\"1\" class=\"dataframe\">\n",
       "  <thead>\n",
       "    <tr style=\"text-align: right;\">\n",
       "      <th></th>\n",
       "      <th>user_id</th>\n",
       "      <th>source</th>\n",
       "    </tr>\n",
       "  </thead>\n",
       "  <tbody>\n",
       "    <tr>\n",
       "      <th>0</th>\n",
       "      <td>020292ab-89bc-4156-9acf-68bc2783f894</td>\n",
       "      <td>other</td>\n",
       "    </tr>\n",
       "    <tr>\n",
       "      <th>1</th>\n",
       "      <td>cf7eda61-9349-469f-ac27-e5b6f5ec475c</td>\n",
       "      <td>bing</td>\n",
       "    </tr>\n",
       "    <tr>\n",
       "      <th>2</th>\n",
       "      <td>8c356c42-3ba9-4cb6-80b8-3f868d0192c3</td>\n",
       "      <td>bing</td>\n",
       "    </tr>\n",
       "    <tr>\n",
       "      <th>3</th>\n",
       "      <td>d9b06b47-0f36-419b-bbb0-3533e582a6cb</td>\n",
       "      <td>other</td>\n",
       "    </tr>\n",
       "    <tr>\n",
       "      <th>4</th>\n",
       "      <td>f32e1e2a-3027-4693-b793-b7b3ff274439</td>\n",
       "      <td>google</td>\n",
       "    </tr>\n",
       "    <tr>\n",
       "      <th>...</th>\n",
       "      <td>...</td>\n",
       "      <td>...</td>\n",
       "    </tr>\n",
       "    <tr>\n",
       "      <th>4288</th>\n",
       "      <td>b86fe56e-f2de-4f8a-b192-cd89a37ecd41</td>\n",
       "      <td>bing</td>\n",
       "    </tr>\n",
       "    <tr>\n",
       "      <th>4289</th>\n",
       "      <td>424c0ae1-3ea3-4f1e-a814-6bac73e48ab1</td>\n",
       "      <td>bing</td>\n",
       "    </tr>\n",
       "    <tr>\n",
       "      <th>4290</th>\n",
       "      <td>437a4cd4-9ba9-457f-8614-d142bc48fbeb</td>\n",
       "      <td>bing</td>\n",
       "    </tr>\n",
       "    <tr>\n",
       "      <th>4291</th>\n",
       "      <td>c10055f0-0b47-477a-869e-d391b31fdf8f</td>\n",
       "      <td>bing</td>\n",
       "    </tr>\n",
       "    <tr>\n",
       "      <th>4292</th>\n",
       "      <td>d157bffc-264d-4464-8220-1cc0c42f43a9</td>\n",
       "      <td>google</td>\n",
       "    </tr>\n",
       "  </tbody>\n",
       "</table>\n",
       "<p>4293 rows × 2 columns</p>\n",
       "</div>"
      ],
      "text/plain": [
       "                                   user_id  source\n",
       "0     020292ab-89bc-4156-9acf-68bc2783f894   other\n",
       "1     cf7eda61-9349-469f-ac27-e5b6f5ec475c    bing\n",
       "2     8c356c42-3ba9-4cb6-80b8-3f868d0192c3    bing\n",
       "3     d9b06b47-0f36-419b-bbb0-3533e582a6cb   other\n",
       "4     f32e1e2a-3027-4693-b793-b7b3ff274439  google\n",
       "...                                    ...     ...\n",
       "4288  b86fe56e-f2de-4f8a-b192-cd89a37ecd41    bing\n",
       "4289  424c0ae1-3ea3-4f1e-a814-6bac73e48ab1    bing\n",
       "4290  437a4cd4-9ba9-457f-8614-d142bc48fbeb    bing\n",
       "4291  c10055f0-0b47-477a-869e-d391b31fdf8f    bing\n",
       "4292  d157bffc-264d-4464-8220-1cc0c42f43a9  google\n",
       "\n",
       "[4293 rows x 2 columns]"
      ]
     },
     "execution_count": 7,
     "metadata": {},
     "output_type": "execute_result"
    }
   ],
   "source": [
    "sources= sources.rename(columns={'userId':'user_id'})\n",
    "sources"
   ]
  },
  {
   "cell_type": "code",
   "execution_count": 8,
   "id": "c7628941",
   "metadata": {},
   "outputs": [
    {
     "name": "stdout",
     "output_type": "stream",
     "text": [
      "<class 'pandas.core.frame.DataFrame'>\n",
      "RangeIndex: 74197 entries, 0 to 74196\n",
      "Data columns (total 3 columns):\n",
      " #   Column      Non-Null Count  Dtype \n",
      "---  ------      --------------  ----- \n",
      " 0   event.time  74197 non-null  object\n",
      " 1   event.name  74197 non-null  object\n",
      " 2   user_id     74197 non-null  object\n",
      "dtypes: object(3)\n",
      "memory usage: 1.7+ MB\n"
     ]
    }
   ],
   "source": [
    "events = dataset.copy()\n",
    "events = events.rename(columns={'user.id':'user_id'})\n",
    "events.info()"
   ]
  },
  {
   "cell_type": "code",
   "execution_count": 9,
   "id": "089f51e7-9093-43c1-9198-245ddc7e3a0a",
   "metadata": {},
   "outputs": [
    {
     "data": {
      "text/html": [
       "<div>\n",
       "<style scoped>\n",
       "    .dataframe tbody tr th:only-of-type {\n",
       "        vertical-align: middle;\n",
       "    }\n",
       "\n",
       "    .dataframe tbody tr th {\n",
       "        vertical-align: top;\n",
       "    }\n",
       "\n",
       "    .dataframe thead th {\n",
       "        text-align: right;\n",
       "    }\n",
       "</style>\n",
       "<table border=\"1\" class=\"dataframe\">\n",
       "  <thead>\n",
       "    <tr style=\"text-align: right;\">\n",
       "      <th></th>\n",
       "      <th>event.time</th>\n",
       "      <th>event.name</th>\n",
       "      <th>user_id</th>\n",
       "    </tr>\n",
       "  </thead>\n",
       "  <tbody>\n",
       "    <tr>\n",
       "      <th>0</th>\n",
       "      <td>2019-10-07 00:00:00.431357</td>\n",
       "      <td>advert_open</td>\n",
       "      <td>020292ab-89bc-4156-9acf-68bc2783f894</td>\n",
       "    </tr>\n",
       "    <tr>\n",
       "      <th>1</th>\n",
       "      <td>2019-10-07 00:00:01.236320</td>\n",
       "      <td>tips_show</td>\n",
       "      <td>020292ab-89bc-4156-9acf-68bc2783f894</td>\n",
       "    </tr>\n",
       "    <tr>\n",
       "      <th>2</th>\n",
       "      <td>2019-10-07 00:00:02.245341</td>\n",
       "      <td>tips_show</td>\n",
       "      <td>cf7eda61-9349-469f-ac27-e5b6f5ec475c</td>\n",
       "    </tr>\n",
       "    <tr>\n",
       "      <th>3</th>\n",
       "      <td>2019-10-07 00:00:07.039334</td>\n",
       "      <td>tips_show</td>\n",
       "      <td>020292ab-89bc-4156-9acf-68bc2783f894</td>\n",
       "    </tr>\n",
       "    <tr>\n",
       "      <th>4</th>\n",
       "      <td>2019-10-07 00:00:56.319813</td>\n",
       "      <td>advert_open</td>\n",
       "      <td>cf7eda61-9349-469f-ac27-e5b6f5ec475c</td>\n",
       "    </tr>\n",
       "  </tbody>\n",
       "</table>\n",
       "</div>"
      ],
      "text/plain": [
       "                   event.time   event.name  \\\n",
       "0  2019-10-07 00:00:00.431357  advert_open   \n",
       "1  2019-10-07 00:00:01.236320    tips_show   \n",
       "2  2019-10-07 00:00:02.245341    tips_show   \n",
       "3  2019-10-07 00:00:07.039334    tips_show   \n",
       "4  2019-10-07 00:00:56.319813  advert_open   \n",
       "\n",
       "                                user_id  \n",
       "0  020292ab-89bc-4156-9acf-68bc2783f894  \n",
       "1  020292ab-89bc-4156-9acf-68bc2783f894  \n",
       "2  cf7eda61-9349-469f-ac27-e5b6f5ec475c  \n",
       "3  020292ab-89bc-4156-9acf-68bc2783f894  \n",
       "4  cf7eda61-9349-469f-ac27-e5b6f5ec475c  "
      ]
     },
     "execution_count": 9,
     "metadata": {},
     "output_type": "execute_result"
    }
   ],
   "source": [
    "events.head()"
   ]
  },
  {
   "cell_type": "markdown",
   "id": "6403f745-9865-48bd-921f-c4858d9ea0dd",
   "metadata": {},
   "source": [
    "## Cambiar tipo de dato a la columna event.time"
   ]
  },
  {
   "cell_type": "code",
   "execution_count": 10,
   "id": "2bfe44d7-860c-4c5a-b0c2-9ae236032645",
   "metadata": {},
   "outputs": [
    {
     "name": "stdout",
     "output_type": "stream",
     "text": [
      "<class 'pandas.core.frame.DataFrame'>\n",
      "RangeIndex: 74197 entries, 0 to 74196\n",
      "Data columns (total 3 columns):\n",
      " #   Column      Non-Null Count  Dtype \n",
      "---  ------      --------------  ----- \n",
      " 0   event.time  74197 non-null  object\n",
      " 1   event.name  74197 non-null  object\n",
      " 2   user_id     74197 non-null  object\n",
      "dtypes: object(3)\n",
      "memory usage: 1.7+ MB\n"
     ]
    }
   ],
   "source": [
    "# 1. Cambiar el tipo de registros de 'event.time' a datetime\n",
    "events['event.time'] = pd.to_datetime(events['event.time'])\n",
    "\n",
    "# 2. Extraer solo la información de año, mes y día\n",
    "events['event.time'] = events['event.time'].dt.strftime('%Y-%m-%d')\n",
    "\n",
    "events.info()"
   ]
  },
  {
   "cell_type": "code",
   "execution_count": 11,
   "id": "e17b6827-1dc4-4e96-9cff-32a87eda13cd",
   "metadata": {},
   "outputs": [
    {
     "data": {
      "text/html": [
       "<div>\n",
       "<style scoped>\n",
       "    .dataframe tbody tr th:only-of-type {\n",
       "        vertical-align: middle;\n",
       "    }\n",
       "\n",
       "    .dataframe tbody tr th {\n",
       "        vertical-align: top;\n",
       "    }\n",
       "\n",
       "    .dataframe thead th {\n",
       "        text-align: right;\n",
       "    }\n",
       "</style>\n",
       "<table border=\"1\" class=\"dataframe\">\n",
       "  <thead>\n",
       "    <tr style=\"text-align: right;\">\n",
       "      <th></th>\n",
       "      <th>event.time</th>\n",
       "      <th>event.name</th>\n",
       "      <th>user_id</th>\n",
       "    </tr>\n",
       "  </thead>\n",
       "  <tbody>\n",
       "    <tr>\n",
       "      <th>0</th>\n",
       "      <td>2019-10-07</td>\n",
       "      <td>advert_open</td>\n",
       "      <td>020292ab-89bc-4156-9acf-68bc2783f894</td>\n",
       "    </tr>\n",
       "    <tr>\n",
       "      <th>1</th>\n",
       "      <td>2019-10-07</td>\n",
       "      <td>tips_show</td>\n",
       "      <td>020292ab-89bc-4156-9acf-68bc2783f894</td>\n",
       "    </tr>\n",
       "    <tr>\n",
       "      <th>2</th>\n",
       "      <td>2019-10-07</td>\n",
       "      <td>tips_show</td>\n",
       "      <td>cf7eda61-9349-469f-ac27-e5b6f5ec475c</td>\n",
       "    </tr>\n",
       "    <tr>\n",
       "      <th>3</th>\n",
       "      <td>2019-10-07</td>\n",
       "      <td>tips_show</td>\n",
       "      <td>020292ab-89bc-4156-9acf-68bc2783f894</td>\n",
       "    </tr>\n",
       "    <tr>\n",
       "      <th>4</th>\n",
       "      <td>2019-10-07</td>\n",
       "      <td>advert_open</td>\n",
       "      <td>cf7eda61-9349-469f-ac27-e5b6f5ec475c</td>\n",
       "    </tr>\n",
       "  </tbody>\n",
       "</table>\n",
       "</div>"
      ],
      "text/plain": [
       "   event.time   event.name                               user_id\n",
       "0  2019-10-07  advert_open  020292ab-89bc-4156-9acf-68bc2783f894\n",
       "1  2019-10-07    tips_show  020292ab-89bc-4156-9acf-68bc2783f894\n",
       "2  2019-10-07    tips_show  cf7eda61-9349-469f-ac27-e5b6f5ec475c\n",
       "3  2019-10-07    tips_show  020292ab-89bc-4156-9acf-68bc2783f894\n",
       "4  2019-10-07  advert_open  cf7eda61-9349-469f-ac27-e5b6f5ec475c"
      ]
     },
     "execution_count": 11,
     "metadata": {},
     "output_type": "execute_result"
    }
   ],
   "source": [
    "events.head()"
   ]
  },
  {
   "cell_type": "markdown",
   "id": "847dbe29-0b60-4905-b17d-dde2377840fe",
   "metadata": {},
   "source": [
    "## Tratar duplicados implicitos"
   ]
  },
  {
   "cell_type": "code",
   "execution_count": 12,
   "id": "7ad594dc-cdd5-49c2-8bec-d73d48a38773",
   "metadata": {},
   "outputs": [
    {
     "data": {
      "text/plain": [
       "event.name\n",
       "advert_open       6164\n",
       "contacts_call      541\n",
       "contacts_show     4450\n",
       "favorites_add     1417\n",
       "map               3881\n",
       "photos_show      10012\n",
       "search_1          3506\n",
       "search_2           324\n",
       "search_3           522\n",
       "search_4           701\n",
       "search_5          1049\n",
       "search_6           460\n",
       "search_7           222\n",
       "show_contacts       79\n",
       "tips_click         814\n",
       "tips_show        40055\n",
       "Name: count, dtype: int64"
      ]
     },
     "execution_count": 12,
     "metadata": {},
     "output_type": "execute_result"
    }
   ],
   "source": [
    "resumen_eventos = events['event.name'].value_counts()\n",
    "resumen_eventos.sort_index()"
   ]
  },
  {
   "cell_type": "markdown",
   "id": "b39c0357-548f-4b3c-8150-fdc2b043f927",
   "metadata": {},
   "source": [
    "<div class=\"alert alert-block alert-info\">\n",
    "\n",
    "Se deben unificar \"show_contacts\" a \"contacts_show\"\n",
    "</div>"
   ]
  },
  {
   "cell_type": "code",
   "execution_count": 13,
   "id": "30d4c934-ed3b-4001-b1fd-981d112967f9",
   "metadata": {},
   "outputs": [
    {
     "data": {
      "text/plain": [
       "event.name\n",
       "advert_open       6164\n",
       "contacts_call      541\n",
       "contacts_show     4529\n",
       "favorites_add     1417\n",
       "map               3881\n",
       "photos_show      10012\n",
       "search_1          3506\n",
       "search_2           324\n",
       "search_3           522\n",
       "search_4           701\n",
       "search_5          1049\n",
       "search_6           460\n",
       "search_7           222\n",
       "tips_click         814\n",
       "tips_show        40055\n",
       "Name: count, dtype: int64"
      ]
     },
     "execution_count": 13,
     "metadata": {},
     "output_type": "execute_result"
    }
   ],
   "source": [
    "events['event.name'] = events['event.name'].replace('show_contacts','contacts_show')\n",
    "resumen_eventos2 = events['event.name'].value_counts().sort_index()\n",
    "resumen_eventos2"
   ]
  },
  {
   "cell_type": "markdown",
   "id": "4e7398d4-da79-40d1-bb59-d46cc11fb1c0",
   "metadata": {},
   "source": [
    "## Complementar información en dataset de eventos"
   ]
  },
  {
   "cell_type": "code",
   "execution_count": 14,
   "id": "82da2ebc-0744-49d5-b2d2-2e216b03febb",
   "metadata": {},
   "outputs": [
    {
     "data": {
      "text/html": [
       "<div>\n",
       "<style scoped>\n",
       "    .dataframe tbody tr th:only-of-type {\n",
       "        vertical-align: middle;\n",
       "    }\n",
       "\n",
       "    .dataframe tbody tr th {\n",
       "        vertical-align: top;\n",
       "    }\n",
       "\n",
       "    .dataframe thead th {\n",
       "        text-align: right;\n",
       "    }\n",
       "</style>\n",
       "<table border=\"1\" class=\"dataframe\">\n",
       "  <thead>\n",
       "    <tr style=\"text-align: right;\">\n",
       "      <th></th>\n",
       "      <th>event.time</th>\n",
       "      <th>event.name</th>\n",
       "      <th>user_id</th>\n",
       "      <th>source</th>\n",
       "    </tr>\n",
       "  </thead>\n",
       "  <tbody>\n",
       "    <tr>\n",
       "      <th>0</th>\n",
       "      <td>2019-10-07</td>\n",
       "      <td>advert_open</td>\n",
       "      <td>020292ab-89bc-4156-9acf-68bc2783f894</td>\n",
       "      <td>other</td>\n",
       "    </tr>\n",
       "    <tr>\n",
       "      <th>1</th>\n",
       "      <td>2019-10-07</td>\n",
       "      <td>tips_show</td>\n",
       "      <td>020292ab-89bc-4156-9acf-68bc2783f894</td>\n",
       "      <td>other</td>\n",
       "    </tr>\n",
       "    <tr>\n",
       "      <th>2</th>\n",
       "      <td>2019-10-07</td>\n",
       "      <td>tips_show</td>\n",
       "      <td>cf7eda61-9349-469f-ac27-e5b6f5ec475c</td>\n",
       "      <td>bing</td>\n",
       "    </tr>\n",
       "    <tr>\n",
       "      <th>3</th>\n",
       "      <td>2019-10-07</td>\n",
       "      <td>tips_show</td>\n",
       "      <td>020292ab-89bc-4156-9acf-68bc2783f894</td>\n",
       "      <td>other</td>\n",
       "    </tr>\n",
       "    <tr>\n",
       "      <th>4</th>\n",
       "      <td>2019-10-07</td>\n",
       "      <td>advert_open</td>\n",
       "      <td>cf7eda61-9349-469f-ac27-e5b6f5ec475c</td>\n",
       "      <td>bing</td>\n",
       "    </tr>\n",
       "    <tr>\n",
       "      <th>...</th>\n",
       "      <td>...</td>\n",
       "      <td>...</td>\n",
       "      <td>...</td>\n",
       "      <td>...</td>\n",
       "    </tr>\n",
       "    <tr>\n",
       "      <th>74192</th>\n",
       "      <td>2019-11-03</td>\n",
       "      <td>tips_show</td>\n",
       "      <td>28fccdf4-7b9e-42f5-bc73-439a265f20e9</td>\n",
       "      <td>google</td>\n",
       "    </tr>\n",
       "    <tr>\n",
       "      <th>74193</th>\n",
       "      <td>2019-11-03</td>\n",
       "      <td>tips_show</td>\n",
       "      <td>28fccdf4-7b9e-42f5-bc73-439a265f20e9</td>\n",
       "      <td>google</td>\n",
       "    </tr>\n",
       "    <tr>\n",
       "      <th>74194</th>\n",
       "      <td>2019-11-03</td>\n",
       "      <td>search_1</td>\n",
       "      <td>20850c8f-4135-4059-b13b-198d3ac59902</td>\n",
       "      <td>google</td>\n",
       "    </tr>\n",
       "    <tr>\n",
       "      <th>74195</th>\n",
       "      <td>2019-11-03</td>\n",
       "      <td>tips_show</td>\n",
       "      <td>28fccdf4-7b9e-42f5-bc73-439a265f20e9</td>\n",
       "      <td>google</td>\n",
       "    </tr>\n",
       "    <tr>\n",
       "      <th>74196</th>\n",
       "      <td>2019-11-03</td>\n",
       "      <td>tips_show</td>\n",
       "      <td>28fccdf4-7b9e-42f5-bc73-439a265f20e9</td>\n",
       "      <td>google</td>\n",
       "    </tr>\n",
       "  </tbody>\n",
       "</table>\n",
       "<p>74197 rows × 4 columns</p>\n",
       "</div>"
      ],
      "text/plain": [
       "       event.time   event.name                               user_id  source\n",
       "0      2019-10-07  advert_open  020292ab-89bc-4156-9acf-68bc2783f894   other\n",
       "1      2019-10-07    tips_show  020292ab-89bc-4156-9acf-68bc2783f894   other\n",
       "2      2019-10-07    tips_show  cf7eda61-9349-469f-ac27-e5b6f5ec475c    bing\n",
       "3      2019-10-07    tips_show  020292ab-89bc-4156-9acf-68bc2783f894   other\n",
       "4      2019-10-07  advert_open  cf7eda61-9349-469f-ac27-e5b6f5ec475c    bing\n",
       "...           ...          ...                                   ...     ...\n",
       "74192  2019-11-03    tips_show  28fccdf4-7b9e-42f5-bc73-439a265f20e9  google\n",
       "74193  2019-11-03    tips_show  28fccdf4-7b9e-42f5-bc73-439a265f20e9  google\n",
       "74194  2019-11-03     search_1  20850c8f-4135-4059-b13b-198d3ac59902  google\n",
       "74195  2019-11-03    tips_show  28fccdf4-7b9e-42f5-bc73-439a265f20e9  google\n",
       "74196  2019-11-03    tips_show  28fccdf4-7b9e-42f5-bc73-439a265f20e9  google\n",
       "\n",
       "[74197 rows x 4 columns]"
      ]
     },
     "execution_count": 14,
     "metadata": {},
     "output_type": "execute_result"
    }
   ],
   "source": [
    "# 1. Agrega una columna con la fuente del usuario\n",
    "# 2. Combina las dos tablas utilizando merge en el campo 'user_id'\n",
    "events_full_data = pd.merge(events, sources, on='user_id')\n",
    "events_full_data"
   ]
  },
  {
   "cell_type": "markdown",
   "id": "032827bb-62af-46ee-be76-7e70f285257c",
   "metadata": {},
   "source": [
    "## Categorizar eventos"
   ]
  },
  {
   "cell_type": "code",
   "execution_count": 15,
   "id": "db5dd02d-318e-4f8f-aa6a-780a54989a00",
   "metadata": {},
   "outputs": [
    {
     "data": {
      "text/plain": [
       "event.name\n",
       "advert_open       6164\n",
       "contacts_call      541\n",
       "contacts_show     4529\n",
       "favorites_add     1417\n",
       "map               3881\n",
       "photos_show      10012\n",
       "search_1          3506\n",
       "search_2           324\n",
       "search_3           522\n",
       "search_4           701\n",
       "search_5          1049\n",
       "search_6           460\n",
       "search_7           222\n",
       "tips_click         814\n",
       "tips_show        40055\n",
       "Name: count, dtype: int64"
      ]
     },
     "execution_count": 15,
     "metadata": {},
     "output_type": "execute_result"
    }
   ],
   "source": [
    "events_full_data['event.name'].value_counts().sort_index()"
   ]
  },
  {
   "cell_type": "code",
   "execution_count": 16,
   "id": "21b4f847-d143-4dd2-ab34-51cdfd8c2f7a",
   "metadata": {},
   "outputs": [
    {
     "data": {
      "text/plain": [
       "array(['advert_open', 'tips_show', 'map', 'contacts_show', 'search_4',\n",
       "       'search_5', 'tips_click', 'photos_show', 'search_1', 'search_2',\n",
       "       'search_3', 'favorites_add', 'contacts_call', 'search_6',\n",
       "       'search_7'], dtype=object)"
      ]
     },
     "execution_count": 16,
     "metadata": {},
     "output_type": "execute_result"
    }
   ],
   "source": [
    "events_full_data['event.name'].unique()"
   ]
  },
  {
   "cell_type": "markdown",
   "id": "0955b077-8ab4-4d76-85c9-2051822f8355",
   "metadata": {},
   "source": [
    "<div class=\"alert alert-block alert-danger\">\n",
    "\n",
    "Hay que copiar previamente en otro dataset para poder calcular la tasa de retención?\n",
    "</div>"
   ]
  },
  {
   "cell_type": "code",
   "execution_count": 17,
   "id": "90bac190-6cdb-4c1b-89ad-b4179ea18b12",
   "metadata": {},
   "outputs": [
    {
     "data": {
      "text/html": [
       "<div>\n",
       "<style scoped>\n",
       "    .dataframe tbody tr th:only-of-type {\n",
       "        vertical-align: middle;\n",
       "    }\n",
       "\n",
       "    .dataframe tbody tr th {\n",
       "        vertical-align: top;\n",
       "    }\n",
       "\n",
       "    .dataframe thead th {\n",
       "        text-align: right;\n",
       "    }\n",
       "</style>\n",
       "<table border=\"1\" class=\"dataframe\">\n",
       "  <thead>\n",
       "    <tr style=\"text-align: right;\">\n",
       "      <th></th>\n",
       "      <th>event.time</th>\n",
       "      <th>event.name</th>\n",
       "      <th>user_id</th>\n",
       "      <th>source</th>\n",
       "      <th>event_category</th>\n",
       "    </tr>\n",
       "  </thead>\n",
       "  <tbody>\n",
       "    <tr>\n",
       "      <th>0</th>\n",
       "      <td>2019-10-07</td>\n",
       "      <td>advert_open</td>\n",
       "      <td>020292ab-89bc-4156-9acf-68bc2783f894</td>\n",
       "      <td>other</td>\n",
       "      <td>activity</td>\n",
       "    </tr>\n",
       "    <tr>\n",
       "      <th>1</th>\n",
       "      <td>2019-10-07</td>\n",
       "      <td>tips_show</td>\n",
       "      <td>020292ab-89bc-4156-9acf-68bc2783f894</td>\n",
       "      <td>other</td>\n",
       "      <td>activity</td>\n",
       "    </tr>\n",
       "    <tr>\n",
       "      <th>2</th>\n",
       "      <td>2019-10-07</td>\n",
       "      <td>tips_show</td>\n",
       "      <td>cf7eda61-9349-469f-ac27-e5b6f5ec475c</td>\n",
       "      <td>bing</td>\n",
       "      <td>activity</td>\n",
       "    </tr>\n",
       "    <tr>\n",
       "      <th>3</th>\n",
       "      <td>2019-10-07</td>\n",
       "      <td>tips_show</td>\n",
       "      <td>020292ab-89bc-4156-9acf-68bc2783f894</td>\n",
       "      <td>other</td>\n",
       "      <td>activity</td>\n",
       "    </tr>\n",
       "    <tr>\n",
       "      <th>4</th>\n",
       "      <td>2019-10-07</td>\n",
       "      <td>advert_open</td>\n",
       "      <td>cf7eda61-9349-469f-ac27-e5b6f5ec475c</td>\n",
       "      <td>bing</td>\n",
       "      <td>activity</td>\n",
       "    </tr>\n",
       "    <tr>\n",
       "      <th>5</th>\n",
       "      <td>2019-10-07</td>\n",
       "      <td>tips_show</td>\n",
       "      <td>cf7eda61-9349-469f-ac27-e5b6f5ec475c</td>\n",
       "      <td>bing</td>\n",
       "      <td>activity</td>\n",
       "    </tr>\n",
       "    <tr>\n",
       "      <th>6</th>\n",
       "      <td>2019-10-07</td>\n",
       "      <td>advert_open</td>\n",
       "      <td>020292ab-89bc-4156-9acf-68bc2783f894</td>\n",
       "      <td>other</td>\n",
       "      <td>activity</td>\n",
       "    </tr>\n",
       "    <tr>\n",
       "      <th>7</th>\n",
       "      <td>2019-10-07</td>\n",
       "      <td>tips_show</td>\n",
       "      <td>020292ab-89bc-4156-9acf-68bc2783f894</td>\n",
       "      <td>other</td>\n",
       "      <td>activity</td>\n",
       "    </tr>\n",
       "    <tr>\n",
       "      <th>8</th>\n",
       "      <td>2019-10-07</td>\n",
       "      <td>advert_open</td>\n",
       "      <td>cf7eda61-9349-469f-ac27-e5b6f5ec475c</td>\n",
       "      <td>bing</td>\n",
       "      <td>activity</td>\n",
       "    </tr>\n",
       "    <tr>\n",
       "      <th>9</th>\n",
       "      <td>2019-10-07</td>\n",
       "      <td>advert_open</td>\n",
       "      <td>020292ab-89bc-4156-9acf-68bc2783f894</td>\n",
       "      <td>other</td>\n",
       "      <td>activity</td>\n",
       "    </tr>\n",
       "  </tbody>\n",
       "</table>\n",
       "</div>"
      ],
      "text/plain": [
       "   event.time   event.name                               user_id source  \\\n",
       "0  2019-10-07  advert_open  020292ab-89bc-4156-9acf-68bc2783f894  other   \n",
       "1  2019-10-07    tips_show  020292ab-89bc-4156-9acf-68bc2783f894  other   \n",
       "2  2019-10-07    tips_show  cf7eda61-9349-469f-ac27-e5b6f5ec475c   bing   \n",
       "3  2019-10-07    tips_show  020292ab-89bc-4156-9acf-68bc2783f894  other   \n",
       "4  2019-10-07  advert_open  cf7eda61-9349-469f-ac27-e5b6f5ec475c   bing   \n",
       "5  2019-10-07    tips_show  cf7eda61-9349-469f-ac27-e5b6f5ec475c   bing   \n",
       "6  2019-10-07  advert_open  020292ab-89bc-4156-9acf-68bc2783f894  other   \n",
       "7  2019-10-07    tips_show  020292ab-89bc-4156-9acf-68bc2783f894  other   \n",
       "8  2019-10-07  advert_open  cf7eda61-9349-469f-ac27-e5b6f5ec475c   bing   \n",
       "9  2019-10-07  advert_open  020292ab-89bc-4156-9acf-68bc2783f894  other   \n",
       "\n",
       "  event_category  \n",
       "0       activity  \n",
       "1       activity  \n",
       "2       activity  \n",
       "3       activity  \n",
       "4       activity  \n",
       "5       activity  \n",
       "6       activity  \n",
       "7       activity  \n",
       "8       activity  \n",
       "9       activity  "
      ]
     },
     "execution_count": 17,
     "metadata": {},
     "output_type": "execute_result"
    }
   ],
   "source": [
    "# Función para consolidar las \"actividades\" como una sola categoría\n",
    "\n",
    "Items_a_cambiar = ['advert_open', 'tips_show', 'map', 'search_4', 'search_5', 'tips_click', 'photos_show', 'search_1', 'search_2', 'search_3', 'favorites_add', 'search_6', 'search_7']\n",
    "\n",
    "# Nueva columna aplicando función\n",
    "events_full_data['event_category'] = events_full_data['event.name'].apply(lambda x: 'activity' if x in Items_a_cambiar else x)\n",
    "\n",
    "# DataFrame resultante\n",
    "events_full_data.head(10)"
   ]
  },
  {
   "cell_type": "markdown",
   "id": "c4c2dddd-4548-43e3-9af1-b56a256cb9bb",
   "metadata": {},
   "source": [
    "# EDA Final: Análisis Exploratorio de Información"
   ]
  },
  {
   "cell_type": "markdown",
   "id": "1fc52b8a-781e-49a0-a0d0-296d2a583b11",
   "metadata": {},
   "source": [
    "## Cantidad de eventos por categoría. "
   ]
  },
  {
   "cell_type": "markdown",
   "id": "9ae07190-27ba-4a65-8b73-a75eebded09f",
   "metadata": {},
   "source": [
    "### Forma 1"
   ]
  },
  {
   "cell_type": "code",
   "execution_count": 18,
   "id": "8b76957e-6523-4053-8ff2-696ae69e45e5",
   "metadata": {},
   "outputs": [
    {
     "data": {
      "text/plain": [
       "array(['activity', 'contacts_show', 'contacts_call'], dtype=object)"
      ]
     },
     "execution_count": 18,
     "metadata": {},
     "output_type": "execute_result"
    }
   ],
   "source": [
    "events_full_data['event_category'].unique()"
   ]
  },
  {
   "cell_type": "code",
   "execution_count": 19,
   "id": "aa516240-2719-4fe7-9f0e-72c0b1d9d4c7",
   "metadata": {},
   "outputs": [
    {
     "name": "stdout",
     "output_type": "stream",
     "text": [
      "cantidad de veces que los usuarios abrieron la publicación publicitaria: 0\n"
     ]
    }
   ],
   "source": [
    "# cantidad total de eventos advert_open\n",
    "cant_01_advert_open = events_full_data[events_full_data['event_category'] == 'advert_open']['event_category'].count()\n",
    "print(f'cantidad de veces que los usuarios abrieron la publicación publicitaria: {cant_01_advert_open}')"
   ]
  },
  {
   "cell_type": "code",
   "execution_count": 20,
   "id": "8b3cf3b1-1ffa-47c5-bb75-365dcb347340",
   "metadata": {},
   "outputs": [
    {
     "name": "stdout",
     "output_type": "stream",
     "text": [
      "cantidad de actividades de los usuarios: 69127\n"
     ]
    }
   ],
   "source": [
    "# cantidad total de actividades\n",
    "cant_02_activity = events_full_data[events_full_data['event_category'] == 'activity']['event_category'].count()\n",
    "print(f'cantidad de actividades de los usuarios: {cant_02_activity}')"
   ]
  },
  {
   "cell_type": "code",
   "execution_count": 21,
   "id": "97a36966-da27-4ed1-a440-3bb30aa28477",
   "metadata": {},
   "outputs": [
    {
     "name": "stdout",
     "output_type": "stream",
     "text": [
      "cantidad de veces que los usuarios hicieron clic en el botón \"mostrar número de teléfono\" en el anuncio: 4529\n"
     ]
    }
   ],
   "source": [
    "# cantidad total de eventos contact_show\n",
    "cant_03_contacts_show = events_full_data[events_full_data['event_category'] == 'contacts_show']['event_category'].count()\n",
    "print(f'cantidad de veces que los usuarios hicieron clic en el botón \"mostrar número de teléfono\" en el anuncio: {cant_03_contacts_show}')"
   ]
  },
  {
   "cell_type": "code",
   "execution_count": 22,
   "id": "12689826",
   "metadata": {},
   "outputs": [
    {
     "name": "stdout",
     "output_type": "stream",
     "text": [
      "cantidad de veces que los usuarios marcaron el número del anuncio: 541\n"
     ]
    }
   ],
   "source": [
    "cant_04_contacts_call = events_full_data[events_full_data['event_category'] == 'contacts_call']['event_category'].count()\n",
    "print(f'cantidad de veces que los usuarios marcaron el número del anuncio: {cant_04_contacts_call}')"
   ]
  },
  {
   "cell_type": "markdown",
   "id": "1e979d03-557c-4c87-8468-3ed382f7f895",
   "metadata": {},
   "source": [
    "### Forma 2"
   ]
  },
  {
   "cell_type": "code",
   "execution_count": 23,
   "id": "cfa055ad-bfb2-466c-ae43-3560df44ab91",
   "metadata": {},
   "outputs": [
    {
     "name": "stdout",
     "output_type": "stream",
     "text": [
      "Resumen de clicks por tipo:\n",
      "\n",
      "event_category\n",
      "activity         69127\n",
      "contacts_show     4529\n",
      "contacts_call      541\n",
      "Name: count, dtype: int64\n"
     ]
    }
   ],
   "source": [
    "# Resumen de clicks por tipo\n",
    "events_by_category = events_full_data['event_category'].value_counts()\n",
    "print('Resumen de clicks por tipo:\\n')\n",
    "print(events_by_category)"
   ]
  },
  {
   "cell_type": "code",
   "execution_count": 24,
   "id": "5454dad6-7e4d-4e20-8c5a-2d8193b0023f",
   "metadata": {},
   "outputs": [
    {
     "data": {
      "text/html": [
       "<div>\n",
       "<style scoped>\n",
       "    .dataframe tbody tr th:only-of-type {\n",
       "        vertical-align: middle;\n",
       "    }\n",
       "\n",
       "    .dataframe tbody tr th {\n",
       "        vertical-align: top;\n",
       "    }\n",
       "\n",
       "    .dataframe thead th {\n",
       "        text-align: right;\n",
       "    }\n",
       "</style>\n",
       "<table border=\"1\" class=\"dataframe\">\n",
       "  <thead>\n",
       "    <tr style=\"text-align: right;\">\n",
       "      <th></th>\n",
       "      <th>event_category</th>\n",
       "      <th>count</th>\n",
       "    </tr>\n",
       "  </thead>\n",
       "  <tbody>\n",
       "    <tr>\n",
       "      <th>0</th>\n",
       "      <td>activity</td>\n",
       "      <td>69127</td>\n",
       "    </tr>\n",
       "    <tr>\n",
       "      <th>1</th>\n",
       "      <td>contacts_show</td>\n",
       "      <td>4529</td>\n",
       "    </tr>\n",
       "    <tr>\n",
       "      <th>2</th>\n",
       "      <td>contacts_call</td>\n",
       "      <td>541</td>\n",
       "    </tr>\n",
       "  </tbody>\n",
       "</table>\n",
       "</div>"
      ],
      "text/plain": [
       "  event_category  count\n",
       "0       activity  69127\n",
       "1  contacts_show   4529\n",
       "2  contacts_call    541"
      ]
     },
     "execution_count": 24,
     "metadata": {},
     "output_type": "execute_result"
    }
   ],
   "source": [
    "# convertir la tabla en Dataframe\n",
    "events_by_category = events_by_category.reset_index()\n",
    "events_by_category"
   ]
  },
  {
   "cell_type": "code",
   "execution_count": 25,
   "id": "041305d2-135d-4fd5-ab7a-c3d406112cf9",
   "metadata": {},
   "outputs": [
    {
     "name": "stdout",
     "output_type": "stream",
     "text": [
      "Cantidad de registros de actividad es:  69127\n",
      "Cantidad de registros de contacts_show es:  4529\n",
      "Cantidad de registros de contacts_call es:  541\n"
     ]
    }
   ],
   "source": [
    "# Imprimir valores\n",
    "cant_activity = events_by_category.loc[events_by_category['event_category'] == 'activity', 'count'].values[0]\n",
    "cant_contacts_show = events_by_category.loc[events_by_category['event_category'] == 'contacts_show', 'count'].values[0]\n",
    "cant_contacts_call = events_by_category.loc[events_by_category['event_category'] == 'contacts_call', 'count'].values[0]\n",
    "\n",
    "print(\"Cantidad de registros de actividad es: \", cant_activity)\n",
    "print(\"Cantidad de registros de contacts_show es: \", cant_contacts_show)\n",
    "print(\"Cantidad de registros de contacts_call es: \", cant_contacts_call)\n"
   ]
  },
  {
   "cell_type": "markdown",
   "id": "310e60ad-3269-46c3-b05c-edbabec3eb32",
   "metadata": {},
   "source": [
    "### Forma 3"
   ]
  },
  {
   "cell_type": "code",
   "execution_count": 26,
   "id": "793505bb-e835-41d0-8f7f-b927670d942a",
   "metadata": {},
   "outputs": [
    {
     "name": "stdout",
     "output_type": "stream",
     "text": [
      "Cantidad de registros de activity es: 69127\n",
      "Cantidad de registros de contacts_show es: 4529\n",
      "Cantidad de registros de contacts_call es: 541\n"
     ]
    }
   ],
   "source": [
    "def get_cantidad_registros(events_by_category, categoria):\n",
    "    return events_by_category.loc[events_by_category['event_category'] == categoria, 'count'].values[0]\n",
    "    \n",
    "# Lista de categorías\n",
    "categorias = ['activity', 'contacts_show', 'contacts_call']\n",
    "\n",
    "# Imprimir valores\n",
    "for categoria in categorias:\n",
    "    cantidad_registros = get_cantidad_registros(events_by_category, categoria)\n",
    "    print(f\"Cantidad de registros de {categoria} es: {cantidad_registros}\")"
   ]
  },
  {
   "cell_type": "markdown",
   "id": "23d90cb2-6764-44e0-8353-ab7c70240899",
   "metadata": {},
   "source": [
    "### Forma 4"
   ]
  },
  {
   "cell_type": "code",
   "execution_count": 27,
   "id": "317b84e2-f875-4d87-9e82-e4561b555bf6",
   "metadata": {},
   "outputs": [
    {
     "data": {
      "text/html": [
       "<div>\n",
       "<style scoped>\n",
       "    .dataframe tbody tr th:only-of-type {\n",
       "        vertical-align: middle;\n",
       "    }\n",
       "\n",
       "    .dataframe tbody tr th {\n",
       "        vertical-align: top;\n",
       "    }\n",
       "\n",
       "    .dataframe thead th {\n",
       "        text-align: right;\n",
       "    }\n",
       "</style>\n",
       "<table border=\"1\" class=\"dataframe\">\n",
       "  <thead>\n",
       "    <tr style=\"text-align: right;\">\n",
       "      <th>source</th>\n",
       "      <th>event_category</th>\n",
       "      <th>bing</th>\n",
       "      <th>google</th>\n",
       "      <th>other</th>\n",
       "    </tr>\n",
       "  </thead>\n",
       "  <tbody>\n",
       "    <tr>\n",
       "      <th>0</th>\n",
       "      <td>activity</td>\n",
       "      <td>32025</td>\n",
       "      <td>18842</td>\n",
       "      <td>18260</td>\n",
       "    </tr>\n",
       "    <tr>\n",
       "      <th>1</th>\n",
       "      <td>contacts_call</td>\n",
       "      <td>226</td>\n",
       "      <td>163</td>\n",
       "      <td>152</td>\n",
       "    </tr>\n",
       "    <tr>\n",
       "      <th>2</th>\n",
       "      <td>contacts_show</td>\n",
       "      <td>2035</td>\n",
       "      <td>1440</td>\n",
       "      <td>1054</td>\n",
       "    </tr>\n",
       "  </tbody>\n",
       "</table>\n",
       "</div>"
      ],
      "text/plain": [
       "source event_category   bing  google  other\n",
       "0            activity  32025   18842  18260\n",
       "1       contacts_call    226     163    152\n",
       "2       contacts_show   2035    1440   1054"
      ]
     },
     "execution_count": 27,
     "metadata": {},
     "output_type": "execute_result"
    }
   ],
   "source": [
    "# Resumen de transacciones clasificadas por eventos y fuentes\n",
    "# Consolidación de datos en tabla dinámica\n",
    "table_01 = events_full_data.pivot_table(index='event_category', columns='source', values='event.time',aggfunc='count') \n",
    "dataset_01 = table_01.reset_index()\n",
    "dataset_01"
   ]
  },
  {
   "cell_type": "code",
   "execution_count": 28,
   "id": "e24325c6-4d5c-4ae0-b9a5-a140e3393deb",
   "metadata": {},
   "outputs": [
    {
     "data": {
      "text/html": [
       "<div>\n",
       "<style scoped>\n",
       "    .dataframe tbody tr th:only-of-type {\n",
       "        vertical-align: middle;\n",
       "    }\n",
       "\n",
       "    .dataframe tbody tr th {\n",
       "        vertical-align: top;\n",
       "    }\n",
       "\n",
       "    .dataframe thead th {\n",
       "        text-align: right;\n",
       "    }\n",
       "</style>\n",
       "<table border=\"1\" class=\"dataframe\">\n",
       "  <thead>\n",
       "    <tr style=\"text-align: right;\">\n",
       "      <th>source</th>\n",
       "      <th>event_category</th>\n",
       "      <th>bing</th>\n",
       "      <th>google</th>\n",
       "      <th>other</th>\n",
       "      <th>total</th>\n",
       "    </tr>\n",
       "  </thead>\n",
       "  <tbody>\n",
       "    <tr>\n",
       "      <th>0</th>\n",
       "      <td>activity</td>\n",
       "      <td>32025</td>\n",
       "      <td>18842</td>\n",
       "      <td>18260</td>\n",
       "      <td>69127</td>\n",
       "    </tr>\n",
       "    <tr>\n",
       "      <th>2</th>\n",
       "      <td>contacts_show</td>\n",
       "      <td>2035</td>\n",
       "      <td>1440</td>\n",
       "      <td>1054</td>\n",
       "      <td>4529</td>\n",
       "    </tr>\n",
       "    <tr>\n",
       "      <th>1</th>\n",
       "      <td>contacts_call</td>\n",
       "      <td>226</td>\n",
       "      <td>163</td>\n",
       "      <td>152</td>\n",
       "      <td>541</td>\n",
       "    </tr>\n",
       "  </tbody>\n",
       "</table>\n",
       "</div>"
      ],
      "text/plain": [
       "source event_category   bing  google  other  total\n",
       "0            activity  32025   18842  18260  69127\n",
       "2       contacts_show   2035    1440   1054   4529\n",
       "1       contacts_call    226     163    152    541"
      ]
     },
     "execution_count": 28,
     "metadata": {},
     "output_type": "execute_result"
    }
   ],
   "source": [
    "dataset_01t = dataset_01.copy()\n",
    "dataset_01t['total'] = dataset_01[['bing', 'google', 'other']].sum(axis=1)\n",
    "dataset_01t = dataset_01t.sort_values(by='total', ascending=False)\n",
    "dataset_01t"
   ]
  },
  {
   "cell_type": "markdown",
   "id": "80c21f67-b2c5-4b58-8cbd-95f1016c45e5",
   "metadata": {},
   "source": [
    "### Gráficas de eventos por categoría"
   ]
  },
  {
   "cell_type": "code",
   "execution_count": 29,
   "id": "eb8bf28b-1adf-4521-8578-5f8fe5566ff0",
   "metadata": {},
   "outputs": [],
   "source": [
    "# Configurar el DataFrame para tener 'event_category' como índice\n",
    "dataset_01.set_index('event_category', inplace=True)"
   ]
  },
  {
   "cell_type": "code",
   "execution_count": 45,
   "id": "70539329-9363-49bd-b43e-26038e20593f",
   "metadata": {},
   "outputs": [
    {
     "data": {
      "image/png": "[encoded data removed]",
      "text/plain": [
       "<Figure size 1000x600 with 1 Axes>"
      ]
     },
     "metadata": {},
     "output_type": "display_data"
    }
   ],
   "source": [
    "# Graficar usando Pandas\n",
    "ax = dataset_01.plot(kind='bar', stacked=False, figsize=(10, 6))\n",
    "\n",
    "# Personalizar el gráfico\n",
    "plt.title('Eventos por Categoría y Origen')\n",
    "plt.xlabel('Categoría de Evento')\n",
    "plt.ylabel('Cantidad')\n",
    "plt.legend(title='Origen', bbox_to_anchor=(1.05, 1), loc='upper left')\n",
    "\n",
    "# Mostrar el gráfico\n",
    "plt.show()"
   ]
  },
  {
   "cell_type": "code",
   "execution_count": 31,
   "id": "5d324c08-852b-41f1-a65c-ca89bb250661",
   "metadata": {},
   "outputs": [
    {
     "data": {
      "image/png": "[encoded data removed]",
      "text/plain": [
       "<Figure size 1000x600 with 1 Axes>"
      ]
     },
     "metadata": {},
     "output_type": "display_data"
    }
   ],
   "source": [
    "# Graficar usando Pandas\n",
    "ax = dataset_01.plot(kind='line', marker='o', figsize=(10, 6))\n",
    "\n",
    "# Personalizar el gráfico\n",
    "plt.title('Eventos por Categoría y Origen')\n",
    "plt.xlabel('Categoría de Evento')\n",
    "plt.ylabel('Cantidad')\n",
    "plt.legend(title='Origen')\n",
    "\n",
    "# Mostrar el gráfico\n",
    "plt.show()"
   ]
  },
  {
   "cell_type": "code",
   "execution_count": 46,
   "id": "1d667197-74c8-4a96-9b10-b04067c2a513",
   "metadata": {},
   "outputs": [
    {
     "data": {
      "image/png": "[encoded data removed]",
      "text/plain": [
       "<Figure size 1000x600 with 1 Axes>"
      ]
     },
     "metadata": {},
     "output_type": "display_data"
    }
   ],
   "source": [
    "# Transponer el DataFrame\n",
    "df_transposed = dataset_01.transpose()\n",
    "\n",
    "# Graficar usando Pandas\n",
    "ax = df_transposed.plot(kind='bar', stacked=False, figsize=(10, 6))\n",
    "\n",
    "# Personalizar el gráfico\n",
    "plt.title('Eventos por Origen y Categoría')\n",
    "plt.xlabel('Origen')\n",
    "plt.ylabel('Cantidad')\n",
    "plt.legend(title='Categoría', bbox_to_anchor=(1.05, 1), loc='upper left')\n",
    "\n",
    "# Mostrar el gráfico\n",
    "plt.show()"
   ]
  },
  {
   "cell_type": "code",
   "execution_count": 33,
   "id": "562d4fcd-09ba-47b5-a641-74144e85fb35",
   "metadata": {},
   "outputs": [
    {
     "data": {
      "image/png": "[encoded data removed]",
      "text/plain": [
       "<Figure size 1000x600 with 1 Axes>"
      ]
     },
     "metadata": {},
     "output_type": "display_data"
    }
   ],
   "source": [
    "# Graficar usando Pandas\n",
    "ax = df_transposed.plot(kind='line', marker='o', figsize=(10, 6))\n",
    "\n",
    "# Personalizar el gráfico\n",
    "plt.title('Eventos por Categoría y Origen')\n",
    "plt.xlabel('Categoría de Evento')\n",
    "plt.ylabel('Cantidad')\n",
    "plt.legend(title='Origen')\n",
    "\n",
    "# Mostrar el gráfico\n",
    "plt.show()"
   ]
  },
  {
   "cell_type": "markdown",
   "id": "1f30b9c1-c0e3-4951-8721-1af071e5d829",
   "metadata": {},
   "source": [
    "## Número de usuarios únicos en cada categoría"
   ]
  },
  {
   "cell_type": "code",
   "execution_count": 34,
   "id": "4c9446fc-d76a-4086-840c-42ac6201ac57",
   "metadata": {},
   "outputs": [
    {
     "data": {
      "text/html": [
       "<div>\n",
       "<style scoped>\n",
       "    .dataframe tbody tr th:only-of-type {\n",
       "        vertical-align: middle;\n",
       "    }\n",
       "\n",
       "    .dataframe tbody tr th {\n",
       "        vertical-align: top;\n",
       "    }\n",
       "\n",
       "    .dataframe thead th {\n",
       "        text-align: right;\n",
       "    }\n",
       "</style>\n",
       "<table border=\"1\" class=\"dataframe\">\n",
       "  <thead>\n",
       "    <tr style=\"text-align: right;\">\n",
       "      <th></th>\n",
       "      <th>event.time</th>\n",
       "      <th>event.name</th>\n",
       "      <th>user_id</th>\n",
       "      <th>source</th>\n",
       "      <th>event_category</th>\n",
       "    </tr>\n",
       "  </thead>\n",
       "  <tbody>\n",
       "    <tr>\n",
       "      <th>0</th>\n",
       "      <td>2019-10-07</td>\n",
       "      <td>advert_open</td>\n",
       "      <td>020292ab-89bc-4156-9acf-68bc2783f894</td>\n",
       "      <td>other</td>\n",
       "      <td>activity</td>\n",
       "    </tr>\n",
       "    <tr>\n",
       "      <th>1</th>\n",
       "      <td>2019-10-07</td>\n",
       "      <td>tips_show</td>\n",
       "      <td>020292ab-89bc-4156-9acf-68bc2783f894</td>\n",
       "      <td>other</td>\n",
       "      <td>activity</td>\n",
       "    </tr>\n",
       "    <tr>\n",
       "      <th>2</th>\n",
       "      <td>2019-10-07</td>\n",
       "      <td>tips_show</td>\n",
       "      <td>cf7eda61-9349-469f-ac27-e5b6f5ec475c</td>\n",
       "      <td>bing</td>\n",
       "      <td>activity</td>\n",
       "    </tr>\n",
       "    <tr>\n",
       "      <th>3</th>\n",
       "      <td>2019-10-07</td>\n",
       "      <td>tips_show</td>\n",
       "      <td>020292ab-89bc-4156-9acf-68bc2783f894</td>\n",
       "      <td>other</td>\n",
       "      <td>activity</td>\n",
       "    </tr>\n",
       "    <tr>\n",
       "      <th>4</th>\n",
       "      <td>2019-10-07</td>\n",
       "      <td>advert_open</td>\n",
       "      <td>cf7eda61-9349-469f-ac27-e5b6f5ec475c</td>\n",
       "      <td>bing</td>\n",
       "      <td>activity</td>\n",
       "    </tr>\n",
       "  </tbody>\n",
       "</table>\n",
       "</div>"
      ],
      "text/plain": [
       "   event.time   event.name                               user_id source  \\\n",
       "0  2019-10-07  advert_open  020292ab-89bc-4156-9acf-68bc2783f894  other   \n",
       "1  2019-10-07    tips_show  020292ab-89bc-4156-9acf-68bc2783f894  other   \n",
       "2  2019-10-07    tips_show  cf7eda61-9349-469f-ac27-e5b6f5ec475c   bing   \n",
       "3  2019-10-07    tips_show  020292ab-89bc-4156-9acf-68bc2783f894  other   \n",
       "4  2019-10-07  advert_open  cf7eda61-9349-469f-ac27-e5b6f5ec475c   bing   \n",
       "\n",
       "  event_category  \n",
       "0       activity  \n",
       "1       activity  \n",
       "2       activity  \n",
       "3       activity  \n",
       "4       activity  "
      ]
     },
     "execution_count": 34,
     "metadata": {},
     "output_type": "execute_result"
    }
   ],
   "source": [
    "events_full_data.head()"
   ]
  },
  {
   "cell_type": "code",
   "execution_count": 57,
   "id": "5768ba65-e858-4d45-8c36-d15bb84051d9",
   "metadata": {},
   "outputs": [
    {
     "name": "stdout",
     "output_type": "stream",
     "text": [
      "source          bing  google  other\n",
      "event_category                     \n",
      "activity        1910    1111   1214\n",
      "contacts_call     92      67     54\n",
      "contacts_show    478     275    228\n"
     ]
    }
   ],
   "source": [
    "# Crear la tabla dinámica\n",
    "table_02 = pd.pivot_table(events_full_data, \n",
    "                             values='user_id', \n",
    "                             index='event_category', \n",
    "                             columns='source', \n",
    "                             aggfunc=pd.Series.nunique, \n",
    "                             fill_value=0)\n",
    "\n",
    "print(table_02)"
   ]
  },
  {
   "cell_type": "code",
   "execution_count": 58,
   "id": "c3e5fb35-685d-46b4-bb97-10beb93fa4cb",
   "metadata": {},
   "outputs": [],
   "source": [
    "dataset_02 = table_02.reset_index()"
   ]
  },
  {
   "cell_type": "code",
   "execution_count": 59,
   "id": "fd628c23-c46b-4b1b-b176-65f6dfeab8a1",
   "metadata": {},
   "outputs": [
    {
     "data": {
      "text/html": [
       "<div>\n",
       "<style scoped>\n",
       "    .dataframe tbody tr th:only-of-type {\n",
       "        vertical-align: middle;\n",
       "    }\n",
       "\n",
       "    .dataframe tbody tr th {\n",
       "        vertical-align: top;\n",
       "    }\n",
       "\n",
       "    .dataframe thead th {\n",
       "        text-align: right;\n",
       "    }\n",
       "</style>\n",
       "<table border=\"1\" class=\"dataframe\">\n",
       "  <thead>\n",
       "    <tr style=\"text-align: right;\">\n",
       "      <th>source</th>\n",
       "      <th>bing</th>\n",
       "      <th>google</th>\n",
       "      <th>other</th>\n",
       "    </tr>\n",
       "    <tr>\n",
       "      <th>event_category</th>\n",
       "      <th></th>\n",
       "      <th></th>\n",
       "      <th></th>\n",
       "    </tr>\n",
       "  </thead>\n",
       "  <tbody>\n",
       "    <tr>\n",
       "      <th>activity</th>\n",
       "      <td>1910</td>\n",
       "      <td>1111</td>\n",
       "      <td>1214</td>\n",
       "    </tr>\n",
       "    <tr>\n",
       "      <th>contacts_call</th>\n",
       "      <td>92</td>\n",
       "      <td>67</td>\n",
       "      <td>54</td>\n",
       "    </tr>\n",
       "    <tr>\n",
       "      <th>contacts_show</th>\n",
       "      <td>478</td>\n",
       "      <td>275</td>\n",
       "      <td>228</td>\n",
       "    </tr>\n",
       "  </tbody>\n",
       "</table>\n",
       "</div>"
      ],
      "text/plain": [
       "source          bing  google  other\n",
       "event_category                     \n",
       "activity        1910    1111   1214\n",
       "contacts_call     92      67     54\n",
       "contacts_show    478     275    228"
      ]
     },
     "execution_count": 59,
     "metadata": {},
     "output_type": "execute_result"
    }
   ],
   "source": [
    "# Configurar el DataFrame para tener 'event_category' como índice\n",
    "dataset_02.set_index('event_category', inplace=True)\n",
    "dataset_02"
   ]
  },
  {
   "cell_type": "markdown",
   "id": "82625283-c382-49e5-b3bf-93d5a0e35396",
   "metadata": {},
   "source": [
    "<div class=\"alert alert-block alert-info\">\n",
    "\n",
    "De esta forma se determino cuántos usuarios llegaron a una cada etapa del embudo\n",
    "</div>"
   ]
  },
  {
   "cell_type": "code",
   "execution_count": 60,
   "id": "31e1d486-7079-4db2-acd0-4bff0897f3b8",
   "metadata": {},
   "outputs": [
    {
     "data": {
      "image/png": "[encoded data removed]",
      "text/plain": [
       "<Figure size 1000x600 with 1 Axes>"
      ]
     },
     "metadata": {},
     "output_type": "display_data"
    }
   ],
   "source": [
    "# Transponer el DataFrame\n",
    "df2_transposed = dataset_02.transpose()\n",
    "\n",
    "# Graficar usando Pandas\n",
    "ax = df_transposed.plot(kind='line', marker='o', figsize=(10, 6))\n",
    "\n",
    "# Personalizar el gráfico\n",
    "plt.title('Eventos por Categoría y Origen')\n",
    "plt.xlabel('Categoría de Evento')\n",
    "plt.ylabel('Cantidad')\n",
    "plt.legend(title='Origen')\n",
    "\n",
    "# Mostrar el gráfico\n",
    "plt.show()"
   ]
  },
  {
   "cell_type": "code",
   "execution_count": 61,
   "id": "5e84791b-f897-45d5-b27f-53f3f87e3f1d",
   "metadata": {},
   "outputs": [
    {
     "data": {
      "text/html": [
       "<div>\n",
       "<style scoped>\n",
       "    .dataframe tbody tr th:only-of-type {\n",
       "        vertical-align: middle;\n",
       "    }\n",
       "\n",
       "    .dataframe tbody tr th {\n",
       "        vertical-align: top;\n",
       "    }\n",
       "\n",
       "    .dataframe thead th {\n",
       "        text-align: right;\n",
       "    }\n",
       "</style>\n",
       "<table border=\"1\" class=\"dataframe\">\n",
       "  <thead>\n",
       "    <tr style=\"text-align: right;\">\n",
       "      <th>source</th>\n",
       "      <th>bing</th>\n",
       "      <th>google</th>\n",
       "      <th>other</th>\n",
       "    </tr>\n",
       "    <tr>\n",
       "      <th>event_category</th>\n",
       "      <th></th>\n",
       "      <th></th>\n",
       "      <th></th>\n",
       "    </tr>\n",
       "  </thead>\n",
       "  <tbody>\n",
       "    <tr>\n",
       "      <th>activity</th>\n",
       "      <td>1910</td>\n",
       "      <td>1111</td>\n",
       "      <td>1214</td>\n",
       "    </tr>\n",
       "    <tr>\n",
       "      <th>contacts_call</th>\n",
       "      <td>92</td>\n",
       "      <td>67</td>\n",
       "      <td>54</td>\n",
       "    </tr>\n",
       "    <tr>\n",
       "      <th>contacts_show</th>\n",
       "      <td>478</td>\n",
       "      <td>275</td>\n",
       "      <td>228</td>\n",
       "    </tr>\n",
       "  </tbody>\n",
       "</table>\n",
       "</div>"
      ],
      "text/plain": [
       "source          bing  google  other\n",
       "event_category                     \n",
       "activity        1910    1111   1214\n",
       "contacts_call     92      67     54\n",
       "contacts_show    478     275    228"
      ]
     },
     "execution_count": 61,
     "metadata": {},
     "output_type": "execute_result"
    }
   ],
   "source": [
    "dataset_02"
   ]
  },
  {
   "cell_type": "code",
   "execution_count": null,
   "id": "fe1bcab0-af19-459e-a0a1-b9550332d540",
   "metadata": {},
   "outputs": [],
   "source": []
  },
  {
   "cell_type": "code",
   "execution_count": 62,
   "id": "f60be6da-224e-4b27-93cf-20d767dd12ba",
   "metadata": {},
   "outputs": [
    {
     "data": {
      "image/png": "[encoded data removed]",
      "text/plain": [
       "<Figure size 1000x600 with 1 Axes>"
      ]
     },
     "metadata": {},
     "output_type": "display_data"
    }
   ],
   "source": [
    "# Graficar usando Pandas\n",
    "ax = dataset_02.plot(kind='bar', stacked=False, figsize=(10, 6))\n",
    "\n",
    "# Personalizar el gráfico\n",
    "plt.title('Eventos por Categoría y Origen')\n",
    "plt.xlabel('Categoría de Evento')\n",
    "plt.ylabel('Cantidad')\n",
    "plt.legend(title='Origen', bbox_to_anchor=(1.05, 1), loc='upper left')\n",
    "\n",
    "# Mostrar el gráfico\n",
    "plt.show()"
   ]
  },
  {
   "cell_type": "code",
   "execution_count": 63,
   "id": "d955177e-3a60-4896-a858-2c7252fcb6fa",
   "metadata": {},
   "outputs": [
    {
     "data": {
      "text/html": [
       "<div>\n",
       "<style scoped>\n",
       "    .dataframe tbody tr th:only-of-type {\n",
       "        vertical-align: middle;\n",
       "    }\n",
       "\n",
       "    .dataframe tbody tr th {\n",
       "        vertical-align: top;\n",
       "    }\n",
       "\n",
       "    .dataframe thead th {\n",
       "        text-align: right;\n",
       "    }\n",
       "</style>\n",
       "<table border=\"1\" class=\"dataframe\">\n",
       "  <thead>\n",
       "    <tr style=\"text-align: right;\">\n",
       "      <th>source</th>\n",
       "      <th>bing</th>\n",
       "      <th>google</th>\n",
       "      <th>other</th>\n",
       "      <th>total</th>\n",
       "    </tr>\n",
       "    <tr>\n",
       "      <th>event_category</th>\n",
       "      <th></th>\n",
       "      <th></th>\n",
       "      <th></th>\n",
       "      <th></th>\n",
       "    </tr>\n",
       "  </thead>\n",
       "  <tbody>\n",
       "    <tr>\n",
       "      <th>activity</th>\n",
       "      <td>1910</td>\n",
       "      <td>1111</td>\n",
       "      <td>1214</td>\n",
       "      <td>4235</td>\n",
       "    </tr>\n",
       "    <tr>\n",
       "      <th>contacts_show</th>\n",
       "      <td>478</td>\n",
       "      <td>275</td>\n",
       "      <td>228</td>\n",
       "      <td>981</td>\n",
       "    </tr>\n",
       "    <tr>\n",
       "      <th>contacts_call</th>\n",
       "      <td>92</td>\n",
       "      <td>67</td>\n",
       "      <td>54</td>\n",
       "      <td>213</td>\n",
       "    </tr>\n",
       "  </tbody>\n",
       "</table>\n",
       "</div>"
      ],
      "text/plain": [
       "source          bing  google  other  total\n",
       "event_category                            \n",
       "activity        1910    1111   1214   4235\n",
       "contacts_show    478     275    228    981\n",
       "contacts_call     92      67     54    213"
      ]
     },
     "execution_count": 63,
     "metadata": {},
     "output_type": "execute_result"
    }
   ],
   "source": [
    "dataset_02t = dataset_02.copy()\n",
    "dataset_02t['total'] = dataset_02t[['bing', 'google', 'other']].sum(axis=1)\n",
    "dataset_02t = dataset_02t.sort_values(by='total', ascending=False)\n",
    "dataset_02t"
   ]
  },
  {
   "cell_type": "markdown",
   "id": "c4eea778-6e76-4880-8263-e751418c12c9",
   "metadata": {},
   "source": [
    "## Usuarios por fuente"
   ]
  },
  {
   "cell_type": "code",
   "execution_count": 50,
   "id": "1aa663cf-fa75-446e-9f1f-36e652c7a22e",
   "metadata": {},
   "outputs": [
    {
     "name": "stdout",
     "output_type": "stream",
     "text": [
      "source\n",
      "bing      1934\n",
      "other     1230\n",
      "google    1129\n",
      "Name: count, dtype: int64\n",
      "---------------------\n",
      "4293\n",
      "4293\n"
     ]
    }
   ],
   "source": [
    "# Cantidad de usuarios por fuente\n",
    "print(sources['source'].value_counts())\n",
    "print('---------------------')\n",
    "print(sources['source'].value_counts().sum())\n",
    "print(len(sources['source']))"
   ]
  },
  {
   "cell_type": "markdown",
   "id": "87378b48-2bcb-484b-a3ea-6b57f0dec348",
   "metadata": {},
   "source": [
    "<div class=\"alert alert-block alert-danger\">\n",
    "\n",
    "* Usuarios por fuente,\n",
    "* Cantidad de usuarios únicos por fuente,\n",
    "* Graficar cantidad de usuarios únicos por fuente,\n",
    "* Cantidad de usuarios únicos a nivel general y desglosados por fuente de adquisición,\n",
    "* totales por evento,\n",
    "* Agrupación de eventos por fuente de adquisición,\n",
    "* Histograma de eventos promedio por usuario (desglosado por fuente de adquisición),\n",
    "* Cantidad de eventos a través del tiempo (agrupando diariamente/semanalmente, desglosado por fuente de adquisición),\n",
    "* Para los eventos más populares, cantidad de eventos a través del tiempo,\n",
    "* Adquisión de usuarios,\n",
    "* Eventos más populares (gráfico de barras con conteo de eventos, desglosado por fuente de adquisición)\n",
    "</div>\n"
   ]
  },
  {
   "cell_type": "markdown",
   "id": "c94a20c9-f7ca-406d-81e0-4fb326025eb4",
   "metadata": {},
   "source": [
    "# Métricas"
   ]
  },
  {
   "cell_type": "code",
   "execution_count": null,
   "id": "889c01e7-6adf-4d2f-b478-8ee8ddf048b1",
   "metadata": {},
   "outputs": [],
   "source": []
  },
  {
   "cell_type": "code",
   "execution_count": null,
   "id": "589f2ccf-e671-41fc-a141-2ad68929d7f8",
   "metadata": {},
   "outputs": [],
   "source": []
  },
  {
   "cell_type": "code",
   "execution_count": null,
   "id": "453fc85b-77de-434f-8c0b-41a897021563",
   "metadata": {},
   "outputs": [],
   "source": []
  },
  {
   "cell_type": "code",
   "execution_count": null,
   "id": "51da862e-9dce-4204-80a6-d981f6464836",
   "metadata": {},
   "outputs": [],
   "source": []
  },
  {
   "cell_type": "code",
   "execution_count": null,
   "id": "fd073b33-8f3d-4626-9610-c02ea1af98bf",
   "metadata": {},
   "outputs": [],
   "source": []
  },
  {
   "cell_type": "code",
   "execution_count": null,
   "id": "d1953f9e-d65f-48f3-8c42-ccb679fdfdea",
   "metadata": {},
   "outputs": [],
   "source": []
  },
  {
   "cell_type": "code",
   "execution_count": null,
   "id": "0030dd40-a5b8-42fc-a29a-5330a231f5bc",
   "metadata": {},
   "outputs": [],
   "source": []
  },
  {
   "cell_type": "code",
   "execution_count": null,
   "id": "9547f686-8a68-449c-9ace-d8ac57770364",
   "metadata": {},
   "outputs": [],
   "source": []
  },
  {
   "cell_type": "code",
   "execution_count": null,
   "id": "61773f49-c340-4a80-a2a1-0cbe99b265af",
   "metadata": {},
   "outputs": [],
   "source": []
  },
  {
   "cell_type": "code",
   "execution_count": null,
   "id": "4c2694d3-9b61-4661-baad-9c29536b2cd6",
   "metadata": {},
   "outputs": [],
   "source": []
  },
  {
   "cell_type": "code",
   "execution_count": null,
   "id": "1d3ce36a-02c2-4258-9709-84f8e4953c8d",
   "metadata": {},
   "outputs": [],
   "source": []
  },
  {
   "cell_type": "code",
   "execution_count": null,
   "id": "93741dd7-def2-4aac-bd03-52a5abb67afb",
   "metadata": {},
   "outputs": [],
   "source": []
  },
  {
   "cell_type": "code",
   "execution_count": null,
   "id": "fd3f43b7-b0d2-4acf-bce3-391d8a4a956a",
   "metadata": {},
   "outputs": [],
   "source": []
  },
  {
   "cell_type": "code",
   "execution_count": null,
   "id": "8ba3d977-7a43-4dfd-a9f4-a383e7ec19ee",
   "metadata": {},
   "outputs": [],
   "source": []
  },
  {
   "cell_type": "code",
   "execution_count": null,
   "id": "f00b53cd-97a9-46c3-988b-4b93f6615e0f",
   "metadata": {},
   "outputs": [],
   "source": []
  },
  {
   "cell_type": "code",
   "execution_count": null,
   "id": "b3f19ea2-96aa-46dc-85e7-c5bc50df868a",
   "metadata": {},
   "outputs": [],
   "source": []
  },
  {
   "cell_type": "code",
   "execution_count": null,
   "id": "c5df33a4-85f2-44b4-9d93-b194fd46b196",
   "metadata": {},
   "outputs": [],
   "source": []
  },
  {
   "cell_type": "code",
   "execution_count": null,
   "id": "61c0efa0-1c02-4864-9daf-a6dc038d6217",
   "metadata": {},
   "outputs": [],
   "source": []
  },
  {
   "cell_type": "code",
   "execution_count": null,
   "id": "196054a7-bdd6-47be-9891-6c76ec2df8fb",
   "metadata": {},
   "outputs": [],
   "source": []
  },
  {
   "cell_type": "code",
   "execution_count": null,
   "id": "9771a0b5-5724-4bdc-8773-8e602b3942ad",
   "metadata": {},
   "outputs": [],
   "source": []
  },
  {
   "cell_type": "code",
   "execution_count": null,
   "id": "9afbb558-b5c7-4328-8b35-ea612028cbb1",
   "metadata": {},
   "outputs": [],
   "source": []
  },
  {
   "cell_type": "code",
   "execution_count": null,
   "id": "b7f69dad-208a-419a-8f43-0e73f7a027d3",
   "metadata": {},
   "outputs": [],
   "source": []
  },
  {
   "cell_type": "code",
   "execution_count": null,
   "id": "f2d4ee35-6112-42c8-9a86-649188694d12",
   "metadata": {},
   "outputs": [],
   "source": []
  },
  {
   "cell_type": "code",
   "execution_count": null,
   "id": "cb74bf51-f555-441b-b895-27013d7a4153",
   "metadata": {},
   "outputs": [],
   "source": []
  },
  {
   "cell_type": "code",
   "execution_count": null,
   "id": "3664cf81-71f7-47a5-b5fd-e65d8e3dd719",
   "metadata": {},
   "outputs": [],
   "source": []
  },
  {
   "cell_type": "code",
   "execution_count": null,
   "id": "c001c48e-56a6-4d9e-9194-2aed8fd33d11",
   "metadata": {},
   "outputs": [],
   "source": []
  },
  {
   "cell_type": "code",
   "execution_count": null,
   "id": "1e87f5cf-3c3c-40c5-af3f-a8aca40ce16f",
   "metadata": {},
   "outputs": [],
   "source": []
  },
  {
   "cell_type": "code",
   "execution_count": null,
   "id": "66194b2b-e9ec-4c91-bda4-7c1892cbc530",
   "metadata": {},
   "outputs": [],
   "source": []
  },
  {
   "cell_type": "code",
   "execution_count": null,
   "id": "477df7c4-b3a2-4498-b9e0-bc6cdead92b5",
   "metadata": {},
   "outputs": [],
   "source": []
  },
  {
   "cell_type": "code",
   "execution_count": null,
   "id": "d107c0e1-fbf7-4c03-87f4-d4adc2e47f96",
   "metadata": {},
   "outputs": [],
   "source": []
  },
  {
   "cell_type": "code",
   "execution_count": null,
   "id": "80dfab1e-78a5-401e-a21c-54547cb61fda",
   "metadata": {},
   "outputs": [],
   "source": []
  },
  {
   "cell_type": "code",
   "execution_count": null,
   "id": "85cab28e-1683-4dec-a4f5-af9d471492ff",
   "metadata": {},
   "outputs": [],
   "source": []
  },
  {
   "cell_type": "code",
   "execution_count": null,
   "id": "217d31ff-4d0e-49ac-bd30-35cb69ea4381",
   "metadata": {},
   "outputs": [],
   "source": []
  },
  {
   "cell_type": "code",
   "execution_count": null,
   "id": "d73c28c4-1487-446c-82b7-7bb15a82bde3",
   "metadata": {},
   "outputs": [],
   "source": []
  },
  {
   "cell_type": "code",
   "execution_count": null,
   "id": "52060f95-9aa0-475a-9915-f9db9cdf153f",
   "metadata": {},
   "outputs": [],
   "source": []
  },
  {
   "cell_type": "code",
   "execution_count": null,
   "id": "7ea2f055-a28e-45ca-af3f-335f4d1a9a92",
   "metadata": {},
   "outputs": [],
   "source": []
  },
  {
   "cell_type": "code",
   "execution_count": null,
   "id": "d070f633-5229-4d20-84d1-89f25952e73b",
   "metadata": {},
   "outputs": [],
   "source": []
  },
  {
   "cell_type": "code",
   "execution_count": null,
   "id": "bdababba-b6db-49ec-ae9d-d5fae4ec86ce",
   "metadata": {},
   "outputs": [],
   "source": []
  },
  {
   "cell_type": "code",
   "execution_count": null,
   "id": "e2638d3c-0d43-4983-ac6a-7c83f594428b",
   "metadata": {},
   "outputs": [],
   "source": []
  },
  {
   "cell_type": "code",
   "execution_count": null,
   "id": "1f3da012-c440-49fa-845f-627f05998b32",
   "metadata": {},
   "outputs": [],
   "source": []
  },
  {
   "cell_type": "code",
   "execution_count": null,
   "id": "f91e940c-46fa-4ccb-8dbe-b2c393ce2757",
   "metadata": {},
   "outputs": [],
   "source": []
  },
  {
   "cell_type": "code",
   "execution_count": null,
   "id": "dc566626-50ac-424a-a304-c857d26b04cd",
   "metadata": {},
   "outputs": [],
   "source": []
  },
  {
   "cell_type": "code",
   "execution_count": null,
   "id": "3370bf67-b448-42f7-8f49-c2eff50e8c83",
   "metadata": {},
   "outputs": [],
   "source": []
  },
  {
   "cell_type": "code",
   "execution_count": null,
   "id": "7e2d68de-0d02-4ffd-b779-6b361b79e898",
   "metadata": {},
   "outputs": [],
   "source": []
  },
  {
   "cell_type": "code",
   "execution_count": null,
   "id": "52ee8a0a-2abd-4760-8346-c7248b6d69b7",
   "metadata": {},
   "outputs": [],
   "source": []
  },
  {
   "cell_type": "code",
   "execution_count": null,
   "id": "02a82fec-6cfd-4729-a248-1efe4ed36e60",
   "metadata": {},
   "outputs": [],
   "source": []
  },
  {
   "cell_type": "code",
   "execution_count": null,
   "id": "e77c19e4-09f0-46ac-a859-9462f0891665",
   "metadata": {},
   "outputs": [],
   "source": []
  },
  {
   "cell_type": "code",
   "execution_count": null,
   "id": "c63df66d-4459-4fc0-a539-13cc11f678d1",
   "metadata": {},
   "outputs": [],
   "source": []
  },
  {
   "cell_type": "code",
   "execution_count": null,
   "id": "6f6ffa79-3bab-48a9-9e7b-0546fd450750",
   "metadata": {},
   "outputs": [],
   "source": [
    "import pandas as pd\n",
    "\n",
    "def calcular_proporciones(dataset, event_categories, reference_event='advert_open'):\n",
    "    # Filtrar las filas correspondientes a la categoría de referencia\n",
    "    reference_row = dataset[dataset['event_category'] == reference_event]\n",
    "\n",
    "    # Obtener los valores de las columnas para la categoría de referencia\n",
    "    reference_values = reference_row[['bing', 'google', 'other']].values[0]\n",
    "\n",
    "    # Inicializar un DataFrame vacío para almacenar las proporciones\n",
    "    proporciones_df = pd.DataFrame(columns=['bing', 'google', 'other'])\n",
    "\n",
    "    # Calcular las proporciones para cada categoría de evento\n",
    "    for event_category in event_categories:\n",
    "        if event_category != reference_event:\n",
    "            proporciones = dataset[dataset['event_category'] == event_category][['bing', 'google', 'other']] / reference_values\n",
    "            proporciones_df = pd.concat([proporciones_df, proporciones], ignore_index=True)\n",
    "\n",
    "    # Imprimir las proporciones\n",
    "    print(f\"Proporciones en función de '{reference_event}':\")\n",
    "    print(proporciones_df)\n",
    "\n",
    "# Uso con dataset\n",
    "eventos_interesantes = ['activity', 'contacts_show', 'contacts_call']\n",
    "calcular_proporciones(dataset_01, eventos_interesantes)\n"
   ]
  },
  {
   "cell_type": "code",
   "execution_count": null,
   "id": "00da77a6-809f-4aec-ba57-4c106b33abb4",
   "metadata": {},
   "outputs": [],
   "source": []
  },
  {
   "cell_type": "code",
   "execution_count": null,
   "id": "b632fb4f-c5f3-4990-a4ea-f7d7c668591a",
   "metadata": {},
   "outputs": [],
   "source": []
  },
  {
   "cell_type": "markdown",
   "id": "86e68b15-a99c-48a8-96b4-d0b1e3965fba",
   "metadata": {},
   "source": [
    "## 2. Tiempo dedicado a la aplicación"
   ]
  },
  {
   "cell_type": "code",
   "execution_count": null,
   "id": "ea8ee340-dd49-4a71-a019-cac7de337a8b",
   "metadata": {},
   "outputs": [],
   "source": [
    "events_full_data.info()"
   ]
  },
  {
   "cell_type": "code",
   "execution_count": null,
   "id": "d54e7e69-1fcd-45b8-be3a-2bf38a32db7e",
   "metadata": {},
   "outputs": [],
   "source": [
    "events_full_data.tail()"
   ]
  },
  {
   "cell_type": "code",
   "execution_count": null,
   "id": "ccba3ba1-2217-4662-968d-ae7c9f68e4d3",
   "metadata": {},
   "outputs": [],
   "source": [
    "# Crear la tabla de usuarios con la fecha y hora de primer ingreso\n",
    "first_table = events_full_data.groupby('user_id')['event.time'].min().reset_index()\n",
    "first_table.columns = ['user_id', 'first_login']\n",
    "first_table"
   ]
  },
  {
   "cell_type": "code",
   "execution_count": null,
   "id": "660a4679-372e-48a8-9619-0d02ac3381a5",
   "metadata": {},
   "outputs": [],
   "source": [
    "# Crear la tabla de usuarios con la fecha y hora de último ingreso\n",
    "last_table = events_full_data.groupby('user_id')['event.time'].max().reset_index()\n",
    "last_table.columns = ['user_id', 'last_login']\n",
    "last_table"
   ]
  },
  {
   "cell_type": "code",
   "execution_count": null,
   "id": "90831ace-8d66-472c-b8bb-d36927f3413e",
   "metadata": {},
   "outputs": [],
   "source": [
    "# Merge de las dos tablas solo para los usuarios que tienen información en ambas tablas\n",
    "consolidated_table = pd.merge(first_table, last_table, on='user_id', how='inner')\n",
    "\n",
    "# Calcula la diferencia en tiempo entre 'first_login' y 'last_login'\n",
    "consolidated_table['time_difference'] = consolidated_table['last_login'] - consolidated_table['first_login']\n",
    "consolidated_table"
   ]
  },
  {
   "cell_type": "code",
   "execution_count": null,
   "id": "e80ae97c-e4cd-499d-9ff3-6b57c73d2c21",
   "metadata": {},
   "outputs": [],
   "source": [
    "# Merge con la tabla 'sources' para agregar la información del origen del usuario\n",
    "consolidated_table = pd.merge(consolidated_table, sources, on='user_id', how='left')\n",
    "consolidated_table"
   ]
  },
  {
   "cell_type": "code",
   "execution_count": null,
   "id": "c5489374-dd34-4557-819c-2df7ad832230",
   "metadata": {},
   "outputs": [],
   "source": [
    "# Generar tabla dinámica para calcular el total de 'time_difference' por 'source'\n",
    "pivot_table = consolidated_table.pivot_table(values='time_difference', index='source', aggfunc='sum')\n",
    "\n",
    "# Renombrar la columna para mayor claridad\n",
    "pivot_table.columns = ['total_time_difference']\n",
    "\n",
    "pivot_table"
   ]
  },
  {
   "cell_type": "code",
   "execution_count": null,
   "id": "8b8907c6-101a-4bc1-856d-9ec20d710bec",
   "metadata": {},
   "outputs": [],
   "source": [
    "# Contar la cantidad de usuarios por 'source'\n",
    "user_count = consolidated_table.groupby('source')['user_id'].nunique().reset_index()\n",
    "user_count.columns = ['source', 'user_count']\n",
    "\n",
    "# Agregar la columna de cantidad de usuarios a la tabla dinámica\n",
    "pivot_table = pd.merge(pivot_table, user_count, on='source', how='left')\n",
    "\n",
    "# Calcular el promedio de tiempo dedicado por cada usuario\n",
    "pivot_table['average_time_per_user'] = pivot_table['total_time_difference'] / pivot_table['user_count']\n",
    "\n",
    "pivot_table"
   ]
  },
  {
   "cell_type": "markdown",
   "id": "348ce584-8b02-4838-886c-ab434a01eb57",
   "metadata": {},
   "source": [
    "## 1. Tasas de retención"
   ]
  },
  {
   "cell_type": "code",
   "execution_count": null,
   "id": "36e34aba-92de-4910-8d8e-50cdce82fba6",
   "metadata": {},
   "outputs": [],
   "source": [
    "events_full_data['event.name'].unique()"
   ]
  },
  {
   "cell_type": "code",
   "execution_count": null,
   "id": "4fbd94cf-a629-4e03-b8b1-96992778892d",
   "metadata": {},
   "outputs": [],
   "source": [
    "events_full_data.info()"
   ]
  },
  {
   "cell_type": "code",
   "execution_count": null,
   "id": "8b8c29d7-15f0-443a-acc1-a18eb8d11312",
   "metadata": {},
   "outputs": [],
   "source": [
    "events_full_data.tail()"
   ]
  },
  {
   "cell_type": "code",
   "execution_count": null,
   "id": "86b00e27-3f96-4087-bdcc-2fa9c880b03d",
   "metadata": {},
   "outputs": [],
   "source": [
    "# Filtrar eventos de inicio de sesión (advert_open)\n",
    "login_events = events_full_data[events_full_data['event.name'] == 'advert_open'].copy()\n",
    "login_events.tail()"
   ]
  },
  {
   "cell_type": "code",
   "execution_count": null,
   "id": "441ac2f5-9211-4ff2-95f3-d9a3b061dbed",
   "metadata": {},
   "outputs": [],
   "source": [
    "# Obtener la lista de user_id que realizaron el evento de inicio de sesión\n",
    "login_users = login_events['user_id'].tolist()\n",
    "login_users"
   ]
  },
  {
   "cell_type": "code",
   "execution_count": null,
   "id": "9f9e9c61-be4f-43f3-9b78-9a08c6e4ea03",
   "metadata": {},
   "outputs": [],
   "source": [
    "# Crear una nueva columna para el día del evento de inicio de sesión\n",
    "login_events.loc[:, 'login_day'] = login_events['event.time'].dt.date\n",
    "login_events"
   ]
  },
  {
   "cell_type": "code",
   "execution_count": null,
   "id": "e6563525-df67-4c44-8ab0-e128391d3e8a",
   "metadata": {},
   "outputs": [],
   "source": [
    "# Filtrar eventos posteriores al inicio de sesión\n",
    "subsequent_events = events_full_data[events_full_data['user_id'].isin(login_users)].copy()\n",
    "subsequent_events"
   ]
  },
  {
   "cell_type": "code",
   "execution_count": null,
   "id": "f8250654-2621-4f59-8488-ef8910d0d843",
   "metadata": {},
   "outputs": [],
   "source": [
    "# Crear una nueva columna para el día de cada evento posterior al inicio de sesión\n",
    "subsequent_events.loc[:, 'event_day'] = subsequent_events['event.time'].dt.date\n",
    "\n",
    "# Calcular la tasa de retención por día\n",
    "retention_data = subsequent_events.groupby(['login_day', 'event_day']).agg({'user_id': 'nunique'}).reset_index()\n",
    "retention_data['retention_rate'] = retention_data['user_id'] / len(login_users) * 100\n",
    "\n",
    "# Filtrar eventos del día del inicio de sesión\n",
    "retention_data = retention_data[retention_data['login_day'] == retention_data['event_day']]\n",
    "\n",
    "# Imprimir el DataFrame resultante\n",
    "print(retention_data)"
   ]
  },
  {
   "cell_type": "code",
   "execution_count": null,
   "id": "67d49b06-f964-487d-9dcf-268e6f9b061e",
   "metadata": {},
   "outputs": [],
   "source": []
  },
  {
   "cell_type": "code",
   "execution_count": null,
   "id": "2c6b52be-2a78-4b21-b9c2-4ef502c7a5c1",
   "metadata": {},
   "outputs": [],
   "source": []
  },
  {
   "cell_type": "code",
   "execution_count": null,
   "id": "9376ec78-afc7-4d8f-ab13-7cd213bb5f29",
   "metadata": {},
   "outputs": [],
   "source": []
  },
  {
   "cell_type": "code",
   "execution_count": null,
   "id": "d9216243-d336-483a-b4b8-76d2cd7a6b66",
   "metadata": {},
   "outputs": [],
   "source": []
  },
  {
   "cell_type": "code",
   "execution_count": null,
   "id": "5acc0719-6537-4b63-8c40-2f648d03ff66",
   "metadata": {},
   "outputs": [],
   "source": []
  },
  {
   "cell_type": "markdown",
   "id": "42ce47ef-90cd-432a-8b09-358ce36d04bd",
   "metadata": {},
   "source": [
    "## 4. Conversión en evento destino\n",
    "Ahora se va a determinar cuantos usuarios pasaron de una etapa a la siguiente.\n",
    "\n",
    "Para tal efecto, se debe:\n",
    "1. Encontrar la hora exacta en que se dio un paso en particular por primera vez para c/usuario.\n",
    "2. Encontrar a los que dieron los pasos en el orden deseado."
   ]
  },
  {
   "cell_type": "code",
   "execution_count": 67,
   "id": "fee48f93-9bf7-45b6-b1d6-5c2aadd63584",
   "metadata": {},
   "outputs": [
    {
     "name": "stdout",
     "output_type": "stream",
     "text": [
      "<class 'pandas.core.frame.DataFrame'>\n",
      "RangeIndex: 74197 entries, 0 to 74196\n",
      "Data columns (total 5 columns):\n",
      " #   Column          Non-Null Count  Dtype \n",
      "---  ------          --------------  ----- \n",
      " 0   event.time      74197 non-null  object\n",
      " 1   event.name      74197 non-null  object\n",
      " 2   user_id         74197 non-null  object\n",
      " 3   source          74197 non-null  object\n",
      " 4   event_category  74197 non-null  object\n",
      "dtypes: object(5)\n",
      "memory usage: 2.8+ MB\n"
     ]
    }
   ],
   "source": [
    "events_full_data.info()"
   ]
  },
  {
   "cell_type": "code",
   "execution_count": 68,
   "id": "f888aba8-d0ba-4943-b30f-9bda52e08aad",
   "metadata": {},
   "outputs": [
    {
     "name": "stdout",
     "output_type": "stream",
     "text": [
      "<class 'pandas.core.frame.DataFrame'>\n",
      "Index: 4293 entries, 0001b1d5-b74a-4cbf-aeb0-7df5947bf349 to fffb9e79-b927-4dbb-9b48-7fd09b23a62b\n",
      "Data columns (total 3 columns):\n",
      " #   Column         Non-Null Count  Dtype \n",
      "---  ------         --------------  ----- \n",
      " 0   activity       4235 non-null   object\n",
      " 1   contacts_call  213 non-null    object\n",
      " 2   contacts_show  981 non-null    object\n",
      "dtypes: object(3)\n",
      "memory usage: 134.2+ KB\n"
     ]
    }
   ],
   "source": [
    "tabla_03 = events_full_data.pivot_table(index='user_id', columns='event_category', values='event.time',aggfunc='min') \n",
    "tabla_03.info()"
   ]
  },
  {
   "cell_type": "code",
   "execution_count": 69,
   "id": "24a937e8-40ec-4769-9d25-63d074ecc04f",
   "metadata": {},
   "outputs": [
    {
     "data": {
      "text/html": [
       "<div>\n",
       "<style scoped>\n",
       "    .dataframe tbody tr th:only-of-type {\n",
       "        vertical-align: middle;\n",
       "    }\n",
       "\n",
       "    .dataframe tbody tr th {\n",
       "        vertical-align: top;\n",
       "    }\n",
       "\n",
       "    .dataframe thead th {\n",
       "        text-align: right;\n",
       "    }\n",
       "</style>\n",
       "<table border=\"1\" class=\"dataframe\">\n",
       "  <thead>\n",
       "    <tr style=\"text-align: right;\">\n",
       "      <th></th>\n",
       "      <th>event.time</th>\n",
       "      <th>event.name</th>\n",
       "      <th>user_id</th>\n",
       "      <th>source</th>\n",
       "      <th>event_category</th>\n",
       "    </tr>\n",
       "  </thead>\n",
       "  <tbody>\n",
       "    <tr>\n",
       "      <th>47688</th>\n",
       "      <td>2019-10-25</td>\n",
       "      <td>contacts_show</td>\n",
       "      <td>00551e79-152e-4441-9cf7-565d7eb04090</td>\n",
       "      <td>bing</td>\n",
       "      <td>contacts_show</td>\n",
       "    </tr>\n",
       "    <tr>\n",
       "      <th>47689</th>\n",
       "      <td>2019-10-25</td>\n",
       "      <td>contacts_call</td>\n",
       "      <td>00551e79-152e-4441-9cf7-565d7eb04090</td>\n",
       "      <td>bing</td>\n",
       "      <td>contacts_call</td>\n",
       "    </tr>\n",
       "    <tr>\n",
       "      <th>55802</th>\n",
       "      <td>2019-10-28</td>\n",
       "      <td>search_1</td>\n",
       "      <td>00551e79-152e-4441-9cf7-565d7eb04090</td>\n",
       "      <td>bing</td>\n",
       "      <td>activity</td>\n",
       "    </tr>\n",
       "    <tr>\n",
       "      <th>55811</th>\n",
       "      <td>2019-10-28</td>\n",
       "      <td>contacts_show</td>\n",
       "      <td>00551e79-152e-4441-9cf7-565d7eb04090</td>\n",
       "      <td>bing</td>\n",
       "      <td>contacts_show</td>\n",
       "    </tr>\n",
       "    <tr>\n",
       "      <th>55813</th>\n",
       "      <td>2019-10-28</td>\n",
       "      <td>contacts_call</td>\n",
       "      <td>00551e79-152e-4441-9cf7-565d7eb04090</td>\n",
       "      <td>bing</td>\n",
       "      <td>contacts_call</td>\n",
       "    </tr>\n",
       "    <tr>\n",
       "      <th>55844</th>\n",
       "      <td>2019-10-28</td>\n",
       "      <td>contacts_show</td>\n",
       "      <td>00551e79-152e-4441-9cf7-565d7eb04090</td>\n",
       "      <td>bing</td>\n",
       "      <td>contacts_show</td>\n",
       "    </tr>\n",
       "    <tr>\n",
       "      <th>55845</th>\n",
       "      <td>2019-10-28</td>\n",
       "      <td>contacts_call</td>\n",
       "      <td>00551e79-152e-4441-9cf7-565d7eb04090</td>\n",
       "      <td>bing</td>\n",
       "      <td>contacts_call</td>\n",
       "    </tr>\n",
       "    <tr>\n",
       "      <th>58047</th>\n",
       "      <td>2019-10-29</td>\n",
       "      <td>photos_show</td>\n",
       "      <td>00551e79-152e-4441-9cf7-565d7eb04090</td>\n",
       "      <td>bing</td>\n",
       "      <td>activity</td>\n",
       "    </tr>\n",
       "  </tbody>\n",
       "</table>\n",
       "</div>"
      ],
      "text/plain": [
       "       event.time     event.name                               user_id source  \\\n",
       "47688  2019-10-25  contacts_show  00551e79-152e-4441-9cf7-565d7eb04090   bing   \n",
       "47689  2019-10-25  contacts_call  00551e79-152e-4441-9cf7-565d7eb04090   bing   \n",
       "55802  2019-10-28       search_1  00551e79-152e-4441-9cf7-565d7eb04090   bing   \n",
       "55811  2019-10-28  contacts_show  00551e79-152e-4441-9cf7-565d7eb04090   bing   \n",
       "55813  2019-10-28  contacts_call  00551e79-152e-4441-9cf7-565d7eb04090   bing   \n",
       "55844  2019-10-28  contacts_show  00551e79-152e-4441-9cf7-565d7eb04090   bing   \n",
       "55845  2019-10-28  contacts_call  00551e79-152e-4441-9cf7-565d7eb04090   bing   \n",
       "58047  2019-10-29    photos_show  00551e79-152e-4441-9cf7-565d7eb04090   bing   \n",
       "\n",
       "      event_category  \n",
       "47688  contacts_show  \n",
       "47689  contacts_call  \n",
       "55802       activity  \n",
       "55811  contacts_show  \n",
       "55813  contacts_call  \n",
       "55844  contacts_show  \n",
       "55845  contacts_call  \n",
       "58047       activity  "
      ]
     },
     "execution_count": 69,
     "metadata": {},
     "output_type": "execute_result"
    }
   ],
   "source": [
    "events_full_data[events_full_data['user_id']=='00551e79-152e-4441-9cf7-565d7eb04090'].sort_values(by='event.time', ascending=True)"
   ]
  },
  {
   "cell_type": "code",
   "execution_count": 70,
   "id": "d530082b-624e-4b8e-a5f0-2d6e2c1f36d0",
   "metadata": {},
   "outputs": [
    {
     "data": {
      "text/html": [
       "<div>\n",
       "<style scoped>\n",
       "    .dataframe tbody tr th:only-of-type {\n",
       "        vertical-align: middle;\n",
       "    }\n",
       "\n",
       "    .dataframe tbody tr th {\n",
       "        vertical-align: top;\n",
       "    }\n",
       "\n",
       "    .dataframe thead th {\n",
       "        text-align: right;\n",
       "    }\n",
       "</style>\n",
       "<table border=\"1\" class=\"dataframe\">\n",
       "  <thead>\n",
       "    <tr style=\"text-align: right;\">\n",
       "      <th>event_category</th>\n",
       "      <th>activity</th>\n",
       "      <th>contacts_call</th>\n",
       "      <th>contacts_show</th>\n",
       "    </tr>\n",
       "    <tr>\n",
       "      <th>user_id</th>\n",
       "      <th></th>\n",
       "      <th></th>\n",
       "      <th></th>\n",
       "    </tr>\n",
       "  </thead>\n",
       "  <tbody>\n",
       "    <tr>\n",
       "      <th>0001b1d5-b74a-4cbf-aeb0-7df5947bf349</th>\n",
       "      <td>2019-10-07</td>\n",
       "      <td>NaN</td>\n",
       "      <td>NaN</td>\n",
       "    </tr>\n",
       "    <tr>\n",
       "      <th>00157779-810c-4498-9e05-a1e9e3cedf93</th>\n",
       "      <td>2019-10-19</td>\n",
       "      <td>2019-10-20</td>\n",
       "      <td>2019-10-20</td>\n",
       "    </tr>\n",
       "    <tr>\n",
       "      <th>00463033-5717-4bf1-91b4-09183923b9df</th>\n",
       "      <td>2019-11-01</td>\n",
       "      <td>NaN</td>\n",
       "      <td>NaN</td>\n",
       "    </tr>\n",
       "    <tr>\n",
       "      <th>004690c3-5a84-4bb7-a8af-e0c8f8fca64e</th>\n",
       "      <td>2019-10-18</td>\n",
       "      <td>NaN</td>\n",
       "      <td>NaN</td>\n",
       "    </tr>\n",
       "    <tr>\n",
       "      <th>00551e79-152e-4441-9cf7-565d7eb04090</th>\n",
       "      <td>2019-10-28</td>\n",
       "      <td>2019-10-25</td>\n",
       "      <td>2019-10-25</td>\n",
       "    </tr>\n",
       "    <tr>\n",
       "      <th>...</th>\n",
       "      <td>...</td>\n",
       "      <td>...</td>\n",
       "      <td>...</td>\n",
       "    </tr>\n",
       "    <tr>\n",
       "      <th>ffab8d8a-30bb-424a-a3ab-0b63ebbf7b07</th>\n",
       "      <td>2019-10-13</td>\n",
       "      <td>NaN</td>\n",
       "      <td>NaN</td>\n",
       "    </tr>\n",
       "    <tr>\n",
       "      <th>ffc01466-fdb1-4460-ae94-e800f52eb136</th>\n",
       "      <td>2019-10-07</td>\n",
       "      <td>NaN</td>\n",
       "      <td>2019-10-07</td>\n",
       "    </tr>\n",
       "    <tr>\n",
       "      <th>ffcf50d9-293c-4254-8243-4890b030b238</th>\n",
       "      <td>2019-10-23</td>\n",
       "      <td>NaN</td>\n",
       "      <td>NaN</td>\n",
       "    </tr>\n",
       "    <tr>\n",
       "      <th>ffe68f10-e48e-470e-be9b-eeb93128ff1a</th>\n",
       "      <td>2019-10-21</td>\n",
       "      <td>NaN</td>\n",
       "      <td>2019-10-22</td>\n",
       "    </tr>\n",
       "    <tr>\n",
       "      <th>fffb9e79-b927-4dbb-9b48-7fd09b23a62b</th>\n",
       "      <td>2019-10-12</td>\n",
       "      <td>NaN</td>\n",
       "      <td>2019-10-16</td>\n",
       "    </tr>\n",
       "  </tbody>\n",
       "</table>\n",
       "<p>4293 rows × 3 columns</p>\n",
       "</div>"
      ],
      "text/plain": [
       "event_category                          activity contacts_call contacts_show\n",
       "user_id                                                                     \n",
       "0001b1d5-b74a-4cbf-aeb0-7df5947bf349  2019-10-07           NaN           NaN\n",
       "00157779-810c-4498-9e05-a1e9e3cedf93  2019-10-19    2019-10-20    2019-10-20\n",
       "00463033-5717-4bf1-91b4-09183923b9df  2019-11-01           NaN           NaN\n",
       "004690c3-5a84-4bb7-a8af-e0c8f8fca64e  2019-10-18           NaN           NaN\n",
       "00551e79-152e-4441-9cf7-565d7eb04090  2019-10-28    2019-10-25    2019-10-25\n",
       "...                                          ...           ...           ...\n",
       "ffab8d8a-30bb-424a-a3ab-0b63ebbf7b07  2019-10-13           NaN           NaN\n",
       "ffc01466-fdb1-4460-ae94-e800f52eb136  2019-10-07           NaN    2019-10-07\n",
       "ffcf50d9-293c-4254-8243-4890b030b238  2019-10-23           NaN           NaN\n",
       "ffe68f10-e48e-470e-be9b-eeb93128ff1a  2019-10-21           NaN    2019-10-22\n",
       "fffb9e79-b927-4dbb-9b48-7fd09b23a62b  2019-10-12           NaN    2019-10-16\n",
       "\n",
       "[4293 rows x 3 columns]"
      ]
     },
     "execution_count": 70,
     "metadata": {},
     "output_type": "execute_result"
    }
   ],
   "source": [
    "tabla_03"
   ]
  },
  {
   "cell_type": "code",
   "execution_count": 71,
   "id": "5672de85-a763-42f6-aac7-f28f6b36a092",
   "metadata": {},
   "outputs": [
    {
     "data": {
      "text/html": [
       "<div>\n",
       "<style scoped>\n",
       "    .dataframe tbody tr th:only-of-type {\n",
       "        vertical-align: middle;\n",
       "    }\n",
       "\n",
       "    .dataframe tbody tr th {\n",
       "        vertical-align: top;\n",
       "    }\n",
       "\n",
       "    .dataframe thead th {\n",
       "        text-align: right;\n",
       "    }\n",
       "</style>\n",
       "<table border=\"1\" class=\"dataframe\">\n",
       "  <thead>\n",
       "    <tr style=\"text-align: right;\">\n",
       "      <th>event_category</th>\n",
       "      <th>user_id</th>\n",
       "      <th>activity</th>\n",
       "      <th>contacts_call</th>\n",
       "      <th>contacts_show</th>\n",
       "    </tr>\n",
       "  </thead>\n",
       "  <tbody>\n",
       "    <tr>\n",
       "      <th>0</th>\n",
       "      <td>0001b1d5-b74a-4cbf-aeb0-7df5947bf349</td>\n",
       "      <td>2019-10-07</td>\n",
       "      <td>NaN</td>\n",
       "      <td>NaN</td>\n",
       "    </tr>\n",
       "    <tr>\n",
       "      <th>1</th>\n",
       "      <td>00157779-810c-4498-9e05-a1e9e3cedf93</td>\n",
       "      <td>2019-10-19</td>\n",
       "      <td>2019-10-20</td>\n",
       "      <td>2019-10-20</td>\n",
       "    </tr>\n",
       "    <tr>\n",
       "      <th>2</th>\n",
       "      <td>00463033-5717-4bf1-91b4-09183923b9df</td>\n",
       "      <td>2019-11-01</td>\n",
       "      <td>NaN</td>\n",
       "      <td>NaN</td>\n",
       "    </tr>\n",
       "    <tr>\n",
       "      <th>3</th>\n",
       "      <td>004690c3-5a84-4bb7-a8af-e0c8f8fca64e</td>\n",
       "      <td>2019-10-18</td>\n",
       "      <td>NaN</td>\n",
       "      <td>NaN</td>\n",
       "    </tr>\n",
       "    <tr>\n",
       "      <th>4</th>\n",
       "      <td>00551e79-152e-4441-9cf7-565d7eb04090</td>\n",
       "      <td>2019-10-28</td>\n",
       "      <td>2019-10-25</td>\n",
       "      <td>2019-10-25</td>\n",
       "    </tr>\n",
       "  </tbody>\n",
       "</table>\n",
       "</div>"
      ],
      "text/plain": [
       "event_category                               user_id    activity  \\\n",
       "0               0001b1d5-b74a-4cbf-aeb0-7df5947bf349  2019-10-07   \n",
       "1               00157779-810c-4498-9e05-a1e9e3cedf93  2019-10-19   \n",
       "2               00463033-5717-4bf1-91b4-09183923b9df  2019-11-01   \n",
       "3               004690c3-5a84-4bb7-a8af-e0c8f8fca64e  2019-10-18   \n",
       "4               00551e79-152e-4441-9cf7-565d7eb04090  2019-10-28   \n",
       "\n",
       "event_category contacts_call contacts_show  \n",
       "0                        NaN           NaN  \n",
       "1                 2019-10-20    2019-10-20  \n",
       "2                        NaN           NaN  \n",
       "3                        NaN           NaN  \n",
       "4                 2019-10-25    2019-10-25  "
      ]
     },
     "execution_count": 71,
     "metadata": {},
     "output_type": "execute_result"
    }
   ],
   "source": [
    "# Convertir en dataframe\n",
    "tabla_03.reset_index(inplace = True)\n",
    "tabla_03.head()"
   ]
  },
  {
   "cell_type": "markdown",
   "id": "a06a131b-7452-4f98-aa19-0a8219e42bd4",
   "metadata": {},
   "source": [
    "### Forma 1"
   ]
  },
  {
   "cell_type": "code",
   "execution_count": 83,
   "id": "c6889369-a9f0-42cb-abb9-f34babbd10ec",
   "metadata": {},
   "outputs": [
    {
     "name": "stdout",
     "output_type": "stream",
     "text": [
      "Visitantes con actividad: 4235\n"
     ]
    }
   ],
   "source": [
    "# Calcula número de filas en tabla_03 donde la columna 'activity' no es nula y \n",
    "# almacena ese número en la variable users_activity.\n",
    "users_activity = tabla_03[~tabla_03['activity'].isna()].shape[0]\n",
    "print('Visitantes con actividad:', users_activity)\n",
    "\n",
    "# se usa el atributo shape para obtener las dimensiones del DataFrame resultante después de aplicar el filtro. \n",
    "# En este caso, se accede al componente [0], que representa el número de filas en el DataFrame resultante."
   ]
  },
  {
   "cell_type": "code",
   "execution_count": 100,
   "id": "bdf0fe04-a7a4-46f4-b49c-47adb22c47de",
   "metadata": {},
   "outputs": [
    {
     "name": "stdout",
     "output_type": "stream",
     "text": [
      "Vieron la página de contactos: 898\n"
     ]
    }
   ],
   "source": [
    "# calcula el número de filas en tabla_03 donde columna 'activity' no es nula y columna 'contacts_show' es mayor que columna 'activity',\n",
    "# y almacena ese número en la variable users_contact_show.\n",
    "\n",
    "users_contact_show = tabla_03[~tabla_03['activity'].isna() & (tabla_03['contacts_show'] >= tabla_03['activity'])].shape[0]\n",
    "print('Vieron la página de contactos:', users_contact_show)"
   ]
  },
  {
   "cell_type": "code",
   "execution_count": 101,
   "id": "9535f13b-d1bd-4599-8c25-f967a1fb6fee",
   "metadata": {},
   "outputs": [
    {
     "name": "stdout",
     "output_type": "stream",
     "text": [
      "llamaron: 170\n"
     ]
    }
   ],
   "source": [
    "users_contact_call = tabla_03[~tabla_03['activity'].isna() & (tabla_03['contacts_show'] >= tabla_03['activity'])& (tabla_03['contacts_call'] >= tabla_03['contacts_show'])].shape[0]\n",
    "print('llamaron:', users_contact_call)"
   ]
  },
  {
   "cell_type": "code",
   "execution_count": 113,
   "id": "62dbe6e9-9fa3-48b4-a141-2858535f9c64",
   "metadata": {},
   "outputs": [
    {
     "name": "stdout",
     "output_type": "stream",
     "text": [
      "             Variable  Valor\n",
      "0      users_activity   4235\n",
      "1  users_contact_show    898\n",
      "2  users_contact_call    170\n"
     ]
    }
   ],
   "source": [
    "# Crear un diccionario con los nombres de las variables y sus valores\n",
    "data = {\n",
    "    'Variable': ['users_activity', 'users_contact_show', 'users_contact_call'],\n",
    "    'Valor': [users_activity, users_contact_show, users_contact_call]\n",
    "}\n",
    "\n",
    "# Crear el DataFrame\n",
    "dataframe_03a = pd.DataFrame(data)\n",
    "\n",
    "print(dataframe_03a)"
   ]
  },
  {
   "cell_type": "code",
   "execution_count": 115,
   "id": "890e063b-1c13-477c-a02b-b1ffe860087e",
   "metadata": {},
   "outputs": [
    {
     "data": {
      "image/png": "[encoded data removed]",
      "text/plain": [
       "<Figure size 640x480 with 1 Axes>"
      ]
     },
     "metadata": {},
     "output_type": "display_data"
    }
   ],
   "source": [
    "# Crear el gráfico de barras\n",
    "plt.bar(dataframe_03['Variable'], dataframe_03['Valor'], color='blue')\n",
    "\n",
    "plt.ylabel('Cantidad de usuarios')\n",
    "plt.title('Conversión en eventos destino')\n",
    "\n",
    "# Agregar los valores en las barras\n",
    "for i, value in enumerate(dataframe_03['Valor']):\n",
    "    plt.text(i, value + 50, str(value), ha='center', va='bottom')\n"
   ]
  },
  {
   "cell_type": "code",
   "execution_count": 98,
   "id": "eba8cf4c-b4d2-49f4-a28b-63355aeeab0f",
   "metadata": {},
   "outputs": [
    {
     "data": {
      "text/html": [
       "<div>\n",
       "<style scoped>\n",
       "    .dataframe tbody tr th:only-of-type {\n",
       "        vertical-align: middle;\n",
       "    }\n",
       "\n",
       "    .dataframe tbody tr th {\n",
       "        vertical-align: top;\n",
       "    }\n",
       "\n",
       "    .dataframe thead th {\n",
       "        text-align: right;\n",
       "    }\n",
       "</style>\n",
       "<table border=\"1\" class=\"dataframe\">\n",
       "  <thead>\n",
       "    <tr style=\"text-align: right;\">\n",
       "      <th>event_category</th>\n",
       "      <th>user_id</th>\n",
       "      <th>activity</th>\n",
       "      <th>contacts_call</th>\n",
       "      <th>contacts_show</th>\n",
       "    </tr>\n",
       "  </thead>\n",
       "  <tbody>\n",
       "    <tr>\n",
       "      <th>1</th>\n",
       "      <td>00157779-810c-4498-9e05-a1e9e3cedf93</td>\n",
       "      <td>2019-10-19</td>\n",
       "      <td>2019-10-20</td>\n",
       "      <td>2019-10-20</td>\n",
       "    </tr>\n",
       "    <tr>\n",
       "      <th>6</th>\n",
       "      <td>005fbea5-2678-406f-88a6-fbe9787e2268</td>\n",
       "      <td>2019-10-11</td>\n",
       "      <td>NaN</td>\n",
       "      <td>2019-10-11</td>\n",
       "    </tr>\n",
       "    <tr>\n",
       "      <th>11</th>\n",
       "      <td>007d031d-5018-4e02-b7ee-72a30609173f</td>\n",
       "      <td>2019-10-22</td>\n",
       "      <td>NaN</td>\n",
       "      <td>2019-10-22</td>\n",
       "    </tr>\n",
       "    <tr>\n",
       "      <th>13</th>\n",
       "      <td>00a93a72-3bbc-4ee7-8a81-7134f45ae009</td>\n",
       "      <td>2019-10-11</td>\n",
       "      <td>NaN</td>\n",
       "      <td>2019-10-11</td>\n",
       "    </tr>\n",
       "    <tr>\n",
       "      <th>20</th>\n",
       "      <td>0103a07d-513f-42b9-8d91-d5891d5655fe</td>\n",
       "      <td>2019-11-03</td>\n",
       "      <td>NaN</td>\n",
       "      <td>2019-11-03</td>\n",
       "    </tr>\n",
       "    <tr>\n",
       "      <th>...</th>\n",
       "      <td>...</td>\n",
       "      <td>...</td>\n",
       "      <td>...</td>\n",
       "      <td>...</td>\n",
       "    </tr>\n",
       "    <tr>\n",
       "      <th>4282</th>\n",
       "      <td>fee3ba1c-16f4-46f7-bf56-4bf80cc4e2f5</td>\n",
       "      <td>2019-10-26</td>\n",
       "      <td>NaN</td>\n",
       "      <td>2019-10-26</td>\n",
       "    </tr>\n",
       "    <tr>\n",
       "      <th>4284</th>\n",
       "      <td>ff1554b5-919e-40b1-90bb-ee1f7f6d5846</td>\n",
       "      <td>2019-10-21</td>\n",
       "      <td>2019-10-21</td>\n",
       "      <td>2019-10-21</td>\n",
       "    </tr>\n",
       "    <tr>\n",
       "      <th>4289</th>\n",
       "      <td>ffc01466-fdb1-4460-ae94-e800f52eb136</td>\n",
       "      <td>2019-10-07</td>\n",
       "      <td>NaN</td>\n",
       "      <td>2019-10-07</td>\n",
       "    </tr>\n",
       "    <tr>\n",
       "      <th>4291</th>\n",
       "      <td>ffe68f10-e48e-470e-be9b-eeb93128ff1a</td>\n",
       "      <td>2019-10-21</td>\n",
       "      <td>NaN</td>\n",
       "      <td>2019-10-22</td>\n",
       "    </tr>\n",
       "    <tr>\n",
       "      <th>4292</th>\n",
       "      <td>fffb9e79-b927-4dbb-9b48-7fd09b23a62b</td>\n",
       "      <td>2019-10-12</td>\n",
       "      <td>NaN</td>\n",
       "      <td>2019-10-16</td>\n",
       "    </tr>\n",
       "  </tbody>\n",
       "</table>\n",
       "<p>898 rows × 4 columns</p>\n",
       "</div>"
      ],
      "text/plain": [
       "event_category                               user_id    activity  \\\n",
       "1               00157779-810c-4498-9e05-a1e9e3cedf93  2019-10-19   \n",
       "6               005fbea5-2678-406f-88a6-fbe9787e2268  2019-10-11   \n",
       "11              007d031d-5018-4e02-b7ee-72a30609173f  2019-10-22   \n",
       "13              00a93a72-3bbc-4ee7-8a81-7134f45ae009  2019-10-11   \n",
       "20              0103a07d-513f-42b9-8d91-d5891d5655fe  2019-11-03   \n",
       "...                                              ...         ...   \n",
       "4282            fee3ba1c-16f4-46f7-bf56-4bf80cc4e2f5  2019-10-26   \n",
       "4284            ff1554b5-919e-40b1-90bb-ee1f7f6d5846  2019-10-21   \n",
       "4289            ffc01466-fdb1-4460-ae94-e800f52eb136  2019-10-07   \n",
       "4291            ffe68f10-e48e-470e-be9b-eeb93128ff1a  2019-10-21   \n",
       "4292            fffb9e79-b927-4dbb-9b48-7fd09b23a62b  2019-10-12   \n",
       "\n",
       "event_category contacts_call contacts_show  \n",
       "1                 2019-10-20    2019-10-20  \n",
       "6                        NaN    2019-10-11  \n",
       "11                       NaN    2019-10-22  \n",
       "13                       NaN    2019-10-11  \n",
       "20                       NaN    2019-11-03  \n",
       "...                      ...           ...  \n",
       "4282                     NaN    2019-10-26  \n",
       "4284              2019-10-21    2019-10-21  \n",
       "4289                     NaN    2019-10-07  \n",
       "4291                     NaN    2019-10-22  \n",
       "4292                     NaN    2019-10-16  \n",
       "\n",
       "[898 rows x 4 columns]"
      ]
     },
     "execution_count": 98,
     "metadata": {},
     "output_type": "execute_result"
    }
   ],
   "source": [
    "df_users_contact_show = tabla_03[~tabla_03['activity'].isna() & (tabla_03['contacts_show'] > tabla_03['activity'])]\n",
    "df_users_contact_show"
   ]
  },
  {
   "cell_type": "code",
   "execution_count": 99,
   "id": "364fc22b-28db-4404-a8ef-6df3261df9d4",
   "metadata": {},
   "outputs": [
    {
     "data": {
      "text/html": [
       "<div>\n",
       "<style scoped>\n",
       "    .dataframe tbody tr th:only-of-type {\n",
       "        vertical-align: middle;\n",
       "    }\n",
       "\n",
       "    .dataframe tbody tr th {\n",
       "        vertical-align: top;\n",
       "    }\n",
       "\n",
       "    .dataframe thead th {\n",
       "        text-align: right;\n",
       "    }\n",
       "</style>\n",
       "<table border=\"1\" class=\"dataframe\">\n",
       "  <thead>\n",
       "    <tr style=\"text-align: right;\">\n",
       "      <th>event_category</th>\n",
       "      <th>user_id</th>\n",
       "      <th>activity</th>\n",
       "      <th>contacts_call</th>\n",
       "      <th>contacts_show</th>\n",
       "    </tr>\n",
       "  </thead>\n",
       "  <tbody>\n",
       "    <tr>\n",
       "      <th>1</th>\n",
       "      <td>00157779-810c-4498-9e05-a1e9e3cedf93</td>\n",
       "      <td>2019-10-19</td>\n",
       "      <td>2019-10-20</td>\n",
       "      <td>2019-10-20</td>\n",
       "    </tr>\n",
       "    <tr>\n",
       "      <th>24</th>\n",
       "      <td>01556e76-d389-43bd-9fc7-1a3ba9802f49</td>\n",
       "      <td>2019-10-10</td>\n",
       "      <td>2019-10-10</td>\n",
       "      <td>2019-10-10</td>\n",
       "    </tr>\n",
       "    <tr>\n",
       "      <th>25</th>\n",
       "      <td>01585246-7d9b-4e03-a465-095d5b891b0a</td>\n",
       "      <td>2019-10-17</td>\n",
       "      <td>2019-10-17</td>\n",
       "      <td>2019-10-17</td>\n",
       "    </tr>\n",
       "    <tr>\n",
       "      <th>53</th>\n",
       "      <td>037c3a07-9382-41ef-881a-90b6a55eaa9b</td>\n",
       "      <td>2019-10-30</td>\n",
       "      <td>2019-10-30</td>\n",
       "      <td>2019-10-30</td>\n",
       "    </tr>\n",
       "    <tr>\n",
       "      <th>112</th>\n",
       "      <td>06d168a5-79d3-45ad-906e-872ef5de936f</td>\n",
       "      <td>2019-10-12</td>\n",
       "      <td>2019-10-15</td>\n",
       "      <td>2019-10-15</td>\n",
       "    </tr>\n",
       "    <tr>\n",
       "      <th>...</th>\n",
       "      <td>...</td>\n",
       "      <td>...</td>\n",
       "      <td>...</td>\n",
       "      <td>...</td>\n",
       "    </tr>\n",
       "    <tr>\n",
       "      <th>4224</th>\n",
       "      <td>fbd5d690-e3bf-4be6-9415-750c2fb59475</td>\n",
       "      <td>2019-10-18</td>\n",
       "      <td>2019-10-21</td>\n",
       "      <td>2019-10-21</td>\n",
       "    </tr>\n",
       "    <tr>\n",
       "      <th>4251</th>\n",
       "      <td>fd0bc38a-3c2d-4d12-9de2-b6b52c17177c</td>\n",
       "      <td>2019-10-26</td>\n",
       "      <td>2019-10-26</td>\n",
       "      <td>2019-10-26</td>\n",
       "    </tr>\n",
       "    <tr>\n",
       "      <th>4253</th>\n",
       "      <td>fd20080d-e8a0-4d2c-95dc-ac0f9e144793</td>\n",
       "      <td>2019-10-12</td>\n",
       "      <td>2019-10-12</td>\n",
       "      <td>2019-10-12</td>\n",
       "    </tr>\n",
       "    <tr>\n",
       "      <th>4256</th>\n",
       "      <td>fd624b3c-563c-4459-a681-9a6ddc11549d</td>\n",
       "      <td>2019-10-31</td>\n",
       "      <td>2019-10-31</td>\n",
       "      <td>2019-10-31</td>\n",
       "    </tr>\n",
       "    <tr>\n",
       "      <th>4284</th>\n",
       "      <td>ff1554b5-919e-40b1-90bb-ee1f7f6d5846</td>\n",
       "      <td>2019-10-21</td>\n",
       "      <td>2019-10-21</td>\n",
       "      <td>2019-10-21</td>\n",
       "    </tr>\n",
       "  </tbody>\n",
       "</table>\n",
       "<p>170 rows × 4 columns</p>\n",
       "</div>"
      ],
      "text/plain": [
       "event_category                               user_id    activity  \\\n",
       "1               00157779-810c-4498-9e05-a1e9e3cedf93  2019-10-19   \n",
       "24              01556e76-d389-43bd-9fc7-1a3ba9802f49  2019-10-10   \n",
       "25              01585246-7d9b-4e03-a465-095d5b891b0a  2019-10-17   \n",
       "53              037c3a07-9382-41ef-881a-90b6a55eaa9b  2019-10-30   \n",
       "112             06d168a5-79d3-45ad-906e-872ef5de936f  2019-10-12   \n",
       "...                                              ...         ...   \n",
       "4224            fbd5d690-e3bf-4be6-9415-750c2fb59475  2019-10-18   \n",
       "4251            fd0bc38a-3c2d-4d12-9de2-b6b52c17177c  2019-10-26   \n",
       "4253            fd20080d-e8a0-4d2c-95dc-ac0f9e144793  2019-10-12   \n",
       "4256            fd624b3c-563c-4459-a681-9a6ddc11549d  2019-10-31   \n",
       "4284            ff1554b5-919e-40b1-90bb-ee1f7f6d5846  2019-10-21   \n",
       "\n",
       "event_category contacts_call contacts_show  \n",
       "1                 2019-10-20    2019-10-20  \n",
       "24                2019-10-10    2019-10-10  \n",
       "25                2019-10-17    2019-10-17  \n",
       "53                2019-10-30    2019-10-30  \n",
       "112               2019-10-15    2019-10-15  \n",
       "...                      ...           ...  \n",
       "4224              2019-10-21    2019-10-21  \n",
       "4251              2019-10-26    2019-10-26  \n",
       "4253              2019-10-12    2019-10-12  \n",
       "4256              2019-10-31    2019-10-31  \n",
       "4284              2019-10-21    2019-10-21  \n",
       "\n",
       "[170 rows x 4 columns]"
      ]
     },
     "execution_count": 99,
     "metadata": {},
     "output_type": "execute_result"
    }
   ],
   "source": [
    "df_users_contact_call = tabla_03[~tabla_03['activity'].isna() & (tabla_03['contacts_show'] >= tabla_03['activity'])& (tabla_03['contacts_call'] >= tabla_03['contacts_show'])]\n",
    "df_users_contact_call"
   ]
  },
  {
   "cell_type": "markdown",
   "id": "7232f96f-2909-4802-aa1f-81f1a41c2fb7",
   "metadata": {},
   "source": [
    "### Forma 2"
   ]
  },
  {
   "cell_type": "code",
   "execution_count": 75,
   "id": "206006e9-a23f-402e-89ec-0fb042a33d55",
   "metadata": {},
   "outputs": [
    {
     "data": {
      "text/plain": [
       "4235"
      ]
     },
     "execution_count": 75,
     "metadata": {},
     "output_type": "execute_result"
    }
   ],
   "source": [
    "# genera un df donde con los campos de 'activity' no nulos\n",
    "step_1 = ~tabla_03['activity'].isna()                            \n",
    "num_activity = tabla_03[step_1].shape[0]\n",
    "num_activity"
   ]
  },
  {
   "cell_type": "code",
   "execution_count": 76,
   "id": "9e8844a5-ae79-4179-abeb-8329fbd8f8bb",
   "metadata": {},
   "outputs": [
    {
     "data": {
      "text/plain": [
       "237"
      ]
     },
     "execution_count": 76,
     "metadata": {},
     "output_type": "execute_result"
    }
   ],
   "source": [
    "# genera un df donde fecha 'contacts_show' > fecha 'activity'\n",
    "step_2 = step_1 & (tabla_03['contacts_show'] > tabla_03['activity'])  \n",
    "num_contacts_show = tabla_03[step_2].shape[0]\n",
    "num_contacts_show"
   ]
  },
  {
   "cell_type": "code",
   "execution_count": 77,
   "id": "dcc9bdf7-440d-405f-83a4-46f1c5e4ba36",
   "metadata": {},
   "outputs": [
    {
     "data": {
      "text/plain": [
       "0       False\n",
       "1        True\n",
       "2       False\n",
       "3       False\n",
       "4       False\n",
       "        ...  \n",
       "4288    False\n",
       "4289    False\n",
       "4290    False\n",
       "4291     True\n",
       "4292     True\n",
       "Length: 4293, dtype: bool"
      ]
     },
     "execution_count": 77,
     "metadata": {},
     "output_type": "execute_result"
    }
   ],
   "source": [
    "step_2"
   ]
  },
  {
   "cell_type": "code",
   "execution_count": 78,
   "id": "6ee5991b-71b7-430a-968e-a94cd05a1912",
   "metadata": {},
   "outputs": [
    {
     "data": {
      "text/html": [
       "<div>\n",
       "<style scoped>\n",
       "    .dataframe tbody tr th:only-of-type {\n",
       "        vertical-align: middle;\n",
       "    }\n",
       "\n",
       "    .dataframe tbody tr th {\n",
       "        vertical-align: top;\n",
       "    }\n",
       "\n",
       "    .dataframe thead th {\n",
       "        text-align: right;\n",
       "    }\n",
       "</style>\n",
       "<table border=\"1\" class=\"dataframe\">\n",
       "  <thead>\n",
       "    <tr style=\"text-align: right;\">\n",
       "      <th>event_category</th>\n",
       "      <th>user_id</th>\n",
       "      <th>activity</th>\n",
       "      <th>contacts_call</th>\n",
       "      <th>contacts_show</th>\n",
       "    </tr>\n",
       "  </thead>\n",
       "  <tbody>\n",
       "    <tr>\n",
       "      <th>0</th>\n",
       "      <td>0001b1d5-b74a-4cbf-aeb0-7df5947bf349</td>\n",
       "      <td>2019-10-07</td>\n",
       "      <td>NaN</td>\n",
       "      <td>NaN</td>\n",
       "    </tr>\n",
       "    <tr>\n",
       "      <th>1</th>\n",
       "      <td>00157779-810c-4498-9e05-a1e9e3cedf93</td>\n",
       "      <td>2019-10-19</td>\n",
       "      <td>2019-10-20</td>\n",
       "      <td>2019-10-20</td>\n",
       "    </tr>\n",
       "    <tr>\n",
       "      <th>2</th>\n",
       "      <td>00463033-5717-4bf1-91b4-09183923b9df</td>\n",
       "      <td>2019-11-01</td>\n",
       "      <td>NaN</td>\n",
       "      <td>NaN</td>\n",
       "    </tr>\n",
       "    <tr>\n",
       "      <th>3</th>\n",
       "      <td>004690c3-5a84-4bb7-a8af-e0c8f8fca64e</td>\n",
       "      <td>2019-10-18</td>\n",
       "      <td>NaN</td>\n",
       "      <td>NaN</td>\n",
       "    </tr>\n",
       "    <tr>\n",
       "      <th>4</th>\n",
       "      <td>00551e79-152e-4441-9cf7-565d7eb04090</td>\n",
       "      <td>2019-10-28</td>\n",
       "      <td>2019-10-25</td>\n",
       "      <td>2019-10-25</td>\n",
       "    </tr>\n",
       "  </tbody>\n",
       "</table>\n",
       "</div>"
      ],
      "text/plain": [
       "event_category                               user_id    activity  \\\n",
       "0               0001b1d5-b74a-4cbf-aeb0-7df5947bf349  2019-10-07   \n",
       "1               00157779-810c-4498-9e05-a1e9e3cedf93  2019-10-19   \n",
       "2               00463033-5717-4bf1-91b4-09183923b9df  2019-11-01   \n",
       "3               004690c3-5a84-4bb7-a8af-e0c8f8fca64e  2019-10-18   \n",
       "4               00551e79-152e-4441-9cf7-565d7eb04090  2019-10-28   \n",
       "\n",
       "event_category contacts_call contacts_show  \n",
       "0                        NaN           NaN  \n",
       "1                 2019-10-20    2019-10-20  \n",
       "2                        NaN           NaN  \n",
       "3                        NaN           NaN  \n",
       "4                 2019-10-25    2019-10-25  "
      ]
     },
     "execution_count": 78,
     "metadata": {},
     "output_type": "execute_result"
    }
   ],
   "source": [
    "tabla_03.head()"
   ]
  },
  {
   "cell_type": "code",
   "execution_count": 79,
   "id": "dc799651-3771-433e-a850-a20348a5ab48",
   "metadata": {},
   "outputs": [
    {
     "data": {
      "text/plain": [
       "4"
      ]
     },
     "execution_count": 79,
     "metadata": {},
     "output_type": "execute_result"
    }
   ],
   "source": [
    "# genera un df donde fecha 'contacts_call' > fecha 'contacts_show'\n",
    "step_3 = step_2 & (tabla_03['contacts_call'] > tabla_03['contacts_show'])  \n",
    "num_contacts_call = tabla_03[step_3].shape[0]\n",
    "num_contacts_call"
   ]
  },
  {
   "cell_type": "markdown",
   "id": "c6210022-c6c2-4d4a-8344-5260a465a6c4",
   "metadata": {},
   "source": [
    "### Revisión de un caso atípico "
   ]
  },
  {
   "cell_type": "markdown",
   "id": "e60dc416-d9bd-4793-bad6-8ee53897e926",
   "metadata": {},
   "source": [
    "Grupo de registros para un usuario donde las actividades son posteriores a los eventos destino"
   ]
  },
  {
   "cell_type": "code",
   "execution_count": 81,
   "id": "58ae6d3e-a428-4c13-8440-676e135a5d26",
   "metadata": {},
   "outputs": [
    {
     "data": {
      "text/html": [
       "<div>\n",
       "<style scoped>\n",
       "    .dataframe tbody tr th:only-of-type {\n",
       "        vertical-align: middle;\n",
       "    }\n",
       "\n",
       "    .dataframe tbody tr th {\n",
       "        vertical-align: top;\n",
       "    }\n",
       "\n",
       "    .dataframe thead th {\n",
       "        text-align: right;\n",
       "    }\n",
       "</style>\n",
       "<table border=\"1\" class=\"dataframe\">\n",
       "  <thead>\n",
       "    <tr style=\"text-align: right;\">\n",
       "      <th></th>\n",
       "      <th>event.time</th>\n",
       "      <th>event.name</th>\n",
       "      <th>user_id</th>\n",
       "      <th>source</th>\n",
       "      <th>event_category</th>\n",
       "    </tr>\n",
       "  </thead>\n",
       "  <tbody>\n",
       "    <tr>\n",
       "      <th>47688</th>\n",
       "      <td>2019-10-25</td>\n",
       "      <td>contacts_show</td>\n",
       "      <td>00551e79-152e-4441-9cf7-565d7eb04090</td>\n",
       "      <td>bing</td>\n",
       "      <td>contacts_show</td>\n",
       "    </tr>\n",
       "    <tr>\n",
       "      <th>47689</th>\n",
       "      <td>2019-10-25</td>\n",
       "      <td>contacts_call</td>\n",
       "      <td>00551e79-152e-4441-9cf7-565d7eb04090</td>\n",
       "      <td>bing</td>\n",
       "      <td>contacts_call</td>\n",
       "    </tr>\n",
       "    <tr>\n",
       "      <th>55802</th>\n",
       "      <td>2019-10-28</td>\n",
       "      <td>search_1</td>\n",
       "      <td>00551e79-152e-4441-9cf7-565d7eb04090</td>\n",
       "      <td>bing</td>\n",
       "      <td>activity</td>\n",
       "    </tr>\n",
       "    <tr>\n",
       "      <th>55811</th>\n",
       "      <td>2019-10-28</td>\n",
       "      <td>contacts_show</td>\n",
       "      <td>00551e79-152e-4441-9cf7-565d7eb04090</td>\n",
       "      <td>bing</td>\n",
       "      <td>contacts_show</td>\n",
       "    </tr>\n",
       "    <tr>\n",
       "      <th>55813</th>\n",
       "      <td>2019-10-28</td>\n",
       "      <td>contacts_call</td>\n",
       "      <td>00551e79-152e-4441-9cf7-565d7eb04090</td>\n",
       "      <td>bing</td>\n",
       "      <td>contacts_call</td>\n",
       "    </tr>\n",
       "    <tr>\n",
       "      <th>55844</th>\n",
       "      <td>2019-10-28</td>\n",
       "      <td>contacts_show</td>\n",
       "      <td>00551e79-152e-4441-9cf7-565d7eb04090</td>\n",
       "      <td>bing</td>\n",
       "      <td>contacts_show</td>\n",
       "    </tr>\n",
       "    <tr>\n",
       "      <th>55845</th>\n",
       "      <td>2019-10-28</td>\n",
       "      <td>contacts_call</td>\n",
       "      <td>00551e79-152e-4441-9cf7-565d7eb04090</td>\n",
       "      <td>bing</td>\n",
       "      <td>contacts_call</td>\n",
       "    </tr>\n",
       "    <tr>\n",
       "      <th>58047</th>\n",
       "      <td>2019-10-29</td>\n",
       "      <td>photos_show</td>\n",
       "      <td>00551e79-152e-4441-9cf7-565d7eb04090</td>\n",
       "      <td>bing</td>\n",
       "      <td>activity</td>\n",
       "    </tr>\n",
       "  </tbody>\n",
       "</table>\n",
       "</div>"
      ],
      "text/plain": [
       "       event.time     event.name                               user_id source  \\\n",
       "47688  2019-10-25  contacts_show  00551e79-152e-4441-9cf7-565d7eb04090   bing   \n",
       "47689  2019-10-25  contacts_call  00551e79-152e-4441-9cf7-565d7eb04090   bing   \n",
       "55802  2019-10-28       search_1  00551e79-152e-4441-9cf7-565d7eb04090   bing   \n",
       "55811  2019-10-28  contacts_show  00551e79-152e-4441-9cf7-565d7eb04090   bing   \n",
       "55813  2019-10-28  contacts_call  00551e79-152e-4441-9cf7-565d7eb04090   bing   \n",
       "55844  2019-10-28  contacts_show  00551e79-152e-4441-9cf7-565d7eb04090   bing   \n",
       "55845  2019-10-28  contacts_call  00551e79-152e-4441-9cf7-565d7eb04090   bing   \n",
       "58047  2019-10-29    photos_show  00551e79-152e-4441-9cf7-565d7eb04090   bing   \n",
       "\n",
       "      event_category  \n",
       "47688  contacts_show  \n",
       "47689  contacts_call  \n",
       "55802       activity  \n",
       "55811  contacts_show  \n",
       "55813  contacts_call  \n",
       "55844  contacts_show  \n",
       "55845  contacts_call  \n",
       "58047       activity  "
      ]
     },
     "execution_count": 81,
     "metadata": {},
     "output_type": "execute_result"
    }
   ],
   "source": [
    "# grupo de registros para un usuario donde las actividades son posteriores a los eventos destino\n",
    "events_full_data[events_full_data['user_id']=='00551e79-152e-4441-9cf7-565d7eb04090'].sort_values(by='event.time', ascending=True)"
   ]
  },
  {
   "cell_type": "markdown",
   "id": "fa35ec5c-0cd6-4236-8459-6b06b34a58d1",
   "metadata": {},
   "source": [
    "<div class=\"alert alert-block alert-danger\">\n",
    "\n",
    "¿Cómo se explica la primera actividad tuvo lugar despues de contacts?\n",
    "</div>\n",
    "\n",
    "<div class=\"alert alert-block alert-info\">\n",
    "\n",
    "Al parecer se perdió información del ingreso diario de los usuarios a la plataforma, la información no fue entregada o dicha información no se recopiló.\n",
    "\n",
    "Se sugiere confirmar el origen de la ausencia de dicha información con el grupo que suministró os dataframes.\n",
    "</div>"
   ]
  },
  {
   "cell_type": "code",
   "execution_count": 45,
   "id": "bedb2fdf-5442-4788-8455-69e688a7338f",
   "metadata": {},
   "outputs": [
    {
     "data": {
      "text/html": [
       "<div>\n",
       "<style scoped>\n",
       "    .dataframe tbody tr th:only-of-type {\n",
       "        vertical-align: middle;\n",
       "    }\n",
       "\n",
       "    .dataframe tbody tr th {\n",
       "        vertical-align: top;\n",
       "    }\n",
       "\n",
       "    .dataframe thead th {\n",
       "        text-align: right;\n",
       "    }\n",
       "</style>\n",
       "<table border=\"1\" class=\"dataframe\">\n",
       "  <thead>\n",
       "    <tr style=\"text-align: right;\">\n",
       "      <th></th>\n",
       "      <th>event.time</th>\n",
       "      <th>event.name</th>\n",
       "      <th>user_id</th>\n",
       "      <th>source</th>\n",
       "      <th>event_category</th>\n",
       "    </tr>\n",
       "  </thead>\n",
       "  <tbody>\n",
       "    <tr>\n",
       "      <th>47688</th>\n",
       "      <td>2019-10-25</td>\n",
       "      <td>contacts_show</td>\n",
       "      <td>00551e79-152e-4441-9cf7-565d7eb04090</td>\n",
       "      <td>bing</td>\n",
       "      <td>contacts_show</td>\n",
       "    </tr>\n",
       "    <tr>\n",
       "      <th>47689</th>\n",
       "      <td>2019-10-25</td>\n",
       "      <td>contacts_call</td>\n",
       "      <td>00551e79-152e-4441-9cf7-565d7eb04090</td>\n",
       "      <td>bing</td>\n",
       "      <td>contacts_call</td>\n",
       "    </tr>\n",
       "    <tr>\n",
       "      <th>55802</th>\n",
       "      <td>2019-10-28</td>\n",
       "      <td>search_1</td>\n",
       "      <td>00551e79-152e-4441-9cf7-565d7eb04090</td>\n",
       "      <td>bing</td>\n",
       "      <td>activity</td>\n",
       "    </tr>\n",
       "    <tr>\n",
       "      <th>55811</th>\n",
       "      <td>2019-10-28</td>\n",
       "      <td>contacts_show</td>\n",
       "      <td>00551e79-152e-4441-9cf7-565d7eb04090</td>\n",
       "      <td>bing</td>\n",
       "      <td>contacts_show</td>\n",
       "    </tr>\n",
       "    <tr>\n",
       "      <th>55813</th>\n",
       "      <td>2019-10-28</td>\n",
       "      <td>contacts_call</td>\n",
       "      <td>00551e79-152e-4441-9cf7-565d7eb04090</td>\n",
       "      <td>bing</td>\n",
       "      <td>contacts_call</td>\n",
       "    </tr>\n",
       "    <tr>\n",
       "      <th>55844</th>\n",
       "      <td>2019-10-28</td>\n",
       "      <td>contacts_show</td>\n",
       "      <td>00551e79-152e-4441-9cf7-565d7eb04090</td>\n",
       "      <td>bing</td>\n",
       "      <td>contacts_show</td>\n",
       "    </tr>\n",
       "    <tr>\n",
       "      <th>55845</th>\n",
       "      <td>2019-10-28</td>\n",
       "      <td>contacts_call</td>\n",
       "      <td>00551e79-152e-4441-9cf7-565d7eb04090</td>\n",
       "      <td>bing</td>\n",
       "      <td>contacts_call</td>\n",
       "    </tr>\n",
       "    <tr>\n",
       "      <th>58047</th>\n",
       "      <td>2019-10-29</td>\n",
       "      <td>photos_show</td>\n",
       "      <td>00551e79-152e-4441-9cf7-565d7eb04090</td>\n",
       "      <td>bing</td>\n",
       "      <td>activity</td>\n",
       "    </tr>\n",
       "  </tbody>\n",
       "</table>\n",
       "</div>"
      ],
      "text/plain": [
       "       event.time     event.name                               user_id source  \\\n",
       "47688  2019-10-25  contacts_show  00551e79-152e-4441-9cf7-565d7eb04090   bing   \n",
       "47689  2019-10-25  contacts_call  00551e79-152e-4441-9cf7-565d7eb04090   bing   \n",
       "55802  2019-10-28       search_1  00551e79-152e-4441-9cf7-565d7eb04090   bing   \n",
       "55811  2019-10-28  contacts_show  00551e79-152e-4441-9cf7-565d7eb04090   bing   \n",
       "55813  2019-10-28  contacts_call  00551e79-152e-4441-9cf7-565d7eb04090   bing   \n",
       "55844  2019-10-28  contacts_show  00551e79-152e-4441-9cf7-565d7eb04090   bing   \n",
       "55845  2019-10-28  contacts_call  00551e79-152e-4441-9cf7-565d7eb04090   bing   \n",
       "58047  2019-10-29    photos_show  00551e79-152e-4441-9cf7-565d7eb04090   bing   \n",
       "\n",
       "      event_category  \n",
       "47688  contacts_show  \n",
       "47689  contacts_call  \n",
       "55802       activity  \n",
       "55811  contacts_show  \n",
       "55813  contacts_call  \n",
       "55844  contacts_show  \n",
       "55845  contacts_call  \n",
       "58047       activity  "
      ]
     },
     "execution_count": 45,
     "metadata": {},
     "output_type": "execute_result"
    }
   ],
   "source": [
    "events_full_data[events_full_data['user_id']=='00551e79-152e-4441-9cf7-565d7eb04090'].sort_values(by='event.time', ascending=True)"
   ]
  },
  {
   "cell_type": "code",
   "execution_count": null,
   "id": "169a1700-8c39-424b-b169-38d284b14f59",
   "metadata": {},
   "outputs": [],
   "source": []
  },
  {
   "cell_type": "code",
   "execution_count": null,
   "id": "8d61e8cc-4b18-4bf0-a061-d80c675ecb8c",
   "metadata": {},
   "outputs": [],
   "source": []
  },
  {
   "cell_type": "code",
   "execution_count": null,
   "id": "ad583c6e-34ab-4d3e-86c6-55500bc5c378",
   "metadata": {},
   "outputs": [],
   "source": []
  },
  {
   "cell_type": "markdown",
   "id": "5da9b448-0e47-4ccb-9243-2c1a800904ca",
   "metadata": {},
   "source": [
    "<div class=\"alert alert-block alert-warning\">\n",
    "</div>\n",
    "<div class=\"alert alert-block alert-warning\">\n",
    "</div>\n",
    "<div class=\"alert alert-block alert-warning\">\n",
    "</div>"
   ]
  },
  {
   "cell_type": "markdown",
   "id": "b7e92d0c-e447-415d-aead-9524fa9b7717",
   "metadata": {},
   "source": [
    "<div class=\"alert alert-block alert-danger\">\n",
    "\n",
    "* Usuarios por fuente,\n",
    "* Cantidad de usuarios únicos por fuente,\n",
    "* Graficar cantidad de usuarios únicos por fuente,\n",
    "* Cantidad de usuarios únicos a nivel general y desglosados por fuente de adquisición,\n",
    "* totales por evento,\n",
    "* Agrupación de eventos por fuente de adquisición,\n",
    "* Histograma de eventos promedio por usuario (desglosado por fuente de adquisición),\n",
    "* Cantidad de eventos a través del tiempo (agrupando diariamente/semanalmente, desglosado por fuente de adquisición),\n",
    "* Para los eventos más populares, cantidad de eventos a través del tiempo,\n",
    "* Adquisión de usuarios,\n",
    "* Eventos más populares (gráfico de barras con conteo de eventos, desglosado por fuente de adquisición)\n",
    "</div>\n"
   ]
  },
  {
   "cell_type": "markdown",
   "id": "6228492c-309c-4e10-9ed0-cb9cbe6c27fe",
   "metadata": {},
   "source": [
    "# Teoría: Propuestas"
   ]
  },
  {
   "cell_type": "markdown",
   "id": "21c3867b-9d94-47a8-93b9-8933c6f8d54d",
   "metadata": {},
   "source": [
    "## Análisis exploratorio a mobile_dataset_us\n",
    "* replantear objetivo: tasa de retención o tasa de éxito → embudo → conversión en el evento de destino, contacts_show o contact_calls.\n",
    "* tiempo dedicado a la aplicación por usuario, en promedio considerando totales (eventos y usuarios)\n",
    "* frecuencia de ocurrencia de eventos\n",
    "    * cantidad de eventos realizados por cada usuario\n",
    "    * cantidad de eventos realizados en general\n",
    "\n",
    "\n",
    "## Usuarios por fuente\n",
    "* Cantidad de usuarios únicos por fuente, \n",
    "* Graficar cantidad de usuarios únicos por fuente.\n",
    "\n",
    "\n",
    "## Análisis exploratorio a dataset combinado\n",
    "* Cantidad de usuarios únicos a nivel general y desglosados por fuente de adquisición,\n",
    "* totales por evento,\n",
    "* Agrupación de eventos por fuente de adquisición,\n",
    "* Histograma de eventos promedio por usuario (desglosado por fuente de adquisición),\n",
    "* Cantidad de eventos a través del tiempo (agrupando diariamente/semanalmente, desglosado por fuente de adquisición),\n",
    "* Para los eventos más populares, cantidad de eventos a través del tiempo,\n",
    "* Adquisión de usuarios,\n",
    "* Eventos más populares (gráfico de barras con conteo de eventos, desglosado por fuente de adquisición)"
   ]
  },
  {
   "cell_type": "code",
   "execution_count": null,
   "id": "843e0e67-f51c-4f25-9bb5-7b922e7e871f",
   "metadata": {},
   "outputs": [],
   "source": []
  },
  {
   "cell_type": "markdown",
   "id": "88d036ca-62a0-4eca-9c85-c4887500b82b",
   "metadata": {},
   "source": []
  },
  {
   "cell_type": "markdown",
   "id": "e4570ec7-a747-43a2-a1bd-41966999986d",
   "metadata": {},
   "source": []
  },
  {
   "cell_type": "markdown",
   "id": "01d7538c-f177-462f-b9f2-3e48425aac60",
   "metadata": {},
   "source": [
    "## Segmentar a los usuarios\n",
    "* Construir métricas de interacción (engagement) (e.g., % de eventos en fin de semana, % de eventos en la mañana/tarde/noche, cantidad de eventos, número de días distintos que un usuario realizó un evento, número de eventos por tipo de evento)\n",
    "* graficar un scatter matrix para identificar visualmente si existe una separación por grupos\n",
    "* usar un algoritmo de clusterización (K means, KNN, t-SNE, UMAP, etc.) para crear segmentos"
   ]
  },
  {
   "cell_type": "markdown",
   "id": "7247e2f7-a475-4121-ba08-b2afa981ab76",
   "metadata": {},
   "source": [
    "## Otras estadísticas\n",
    "* Generales\n",
    "* para quienes SI hicieron conversiones destino\n",
    "* para quienes NO hicieron conversiones destino\n",
    "* Por fecha\n",
    "* Por fuente (Source)\n",
    "\n"
   ]
  },
  {
   "cell_type": "code",
   "execution_count": null,
   "id": "3dc59705-1e8b-4307-b26f-34b537824436",
   "metadata": {},
   "outputs": [],
   "source": []
  },
  {
   "cell_type": "code",
   "execution_count": null,
   "id": "63ecde48-9598-46f0-8f6d-da7eed782ce9",
   "metadata": {},
   "outputs": [],
   "source": []
  },
  {
   "cell_type": "code",
   "execution_count": null,
   "id": "04bdf468-9b30-4a96-8123-ad052d905166",
   "metadata": {},
   "outputs": [],
   "source": []
  },
  {
   "cell_type": "code",
   "execution_count": null,
   "id": "0b7b6dce-fad8-47ec-914a-f56c3083bca9",
   "metadata": {},
   "outputs": [],
   "source": []
  },
  {
   "cell_type": "code",
   "execution_count": null,
   "id": "1a82e2f2-fd40-45dc-88b7-9421ef9738ef",
   "metadata": {},
   "outputs": [],
   "source": []
  },
  {
   "cell_type": "markdown",
   "id": "46ecd343-3eeb-468f-a40e-b9a9312687d9",
   "metadata": {},
   "source": [
    "### Pruebas de hipótesis\n",
    "* prueba de hipótesis de la tarea,\n",
    "* conversión a otros eventos,\n",
    "* conversión entre segmentos creados en la sección anterior,\n",
    "* curvas de retención semanales con diferentes eventos (o con todos).\n",
    "\n"
   ]
  },
  {
   "cell_type": "code",
   "execution_count": null,
   "id": "066f0b04-5bd0-4d68-a7fb-04c9a8545614",
   "metadata": {},
   "outputs": [],
   "source": []
  },
  {
   "cell_type": "code",
   "execution_count": null,
   "id": "e7ad2e81-33b8-4f91-801d-12dbdd127e61",
   "metadata": {},
   "outputs": [],
   "source": []
  },
  {
   "cell_type": "markdown",
   "id": "b1effc76-959b-4edd-b54d-421e8d1b6f37",
   "metadata": {},
   "source": [
    "# Conclusiones"
   ]
  },
  {
   "attachments": {},
   "cell_type": "markdown",
   "id": "02140871-d5b1-4537-a678-fd1756b86148",
   "metadata": {},
   "source": [
    "## Fuentes de información"
   ]
  },
  {
   "cell_type": "markdown",
   "id": "101569a5-1f31-450d-a681-32c5fda4af1c",
   "metadata": {},
   "source": [
    "Establecer diferencia entre tipos de usuarios ya que siempre se habla de ellos bajo un solo término cuando en realidad hay:\n",
    "1. Oferentes\n",
    "2. Exploradores/Consumidores"
   ]
  },
  {
   "cell_type": "markdown",
   "id": "9261c7b5-3b18-4a29-84d0-7e6395b37664",
   "metadata": {},
   "source": [
    "Lo más importante es medir las transacciones económicas, para lamentar que no haya información al respecto a las ventas"
   ]
  },
  {
   "cell_type": "markdown",
   "id": "ea3e050c-4c8e-4770-85d0-9c1fe9cbd6fa",
   "metadata": {},
   "source": [
    "## Objetivos"
   ]
  },
  {
   "cell_type": "markdown",
   "id": "3dac80dc-bf52-4c5c-90db-a82bf9c14234",
   "metadata": {},
   "source": [
    "Considero que la referencia para las métricas deben ser las actividades \"contacts_call\", la cual creo que es la última actividad en la secuencia de eventos.\n",
    "Si el direccionamiento es trabajar en función de la actividad \"contacts_show\" es muy probable que el lider de este proyecto en particular haya sido parte de un proceso intermedio en el nogocio que soló quiere medir su impacto sin considerar que puede aportar a la cadena de valor de la empresa.\n"
   ]
  },
  {
   "cell_type": "markdown",
   "id": "bded0c77-2a82-466c-9fb9-62b8dd360860",
   "metadata": {},
   "source": [
    "# Bibilografía"
   ]
  },
  {
   "cell_type": "markdown",
   "id": "18ae3f01-ef63-4c87-af7b-d786d8e941fe",
   "metadata": {},
   "source": [
    "Bootcamp Data Analyst. SPRINT 07. Lección METRICAS Y EMBUDOS. Tema: Embudos de producto simples\n",
    "\n"
   ]
  },
  {
   "cell_type": "code",
   "execution_count": null,
   "id": "1f1eeb9d-3109-4dae-9d56-9228eae54620",
   "metadata": {},
   "outputs": [],
   "source": []
  }
 ],
 "metadata": {
  "kernelspec": {
   "display_name": "Python 3 (ipykernel)",
   "language": "python",
   "name": "python3"
  },
  "language_info": {
   "codemirror_mode": {
    "name": "ipython",
    "version": 3
   },
   "file_extension": ".py",
   "mimetype": "text/x-python",
   "name": "python",
   "nbconvert_exporter": "python",
   "pygments_lexer": "ipython3",
   "version": "3.10.7"
  }
 },
 "nbformat": 4,
 "nbformat_minor": 5
}
